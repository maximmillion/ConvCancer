{
  "nbformat": 4,
  "nbformat_minor": 0,
  "metadata": {
    "colab": {
      "name": "Pyradiomics.ipynb",
      "provenance": [],
      "collapsed_sections": [],
      "include_colab_link": true
    },
    "kernelspec": {
      "name": "python3",
      "display_name": "Python 3"
    },
    "language_info": {
      "name": "python"
    }
  },
  "cells": [
    {
      "cell_type": "markdown",
      "metadata": {
        "id": "view-in-github",
        "colab_type": "text"
      },
      "source": [
        "<a href=\"https://colab.research.google.com/github/maximmillion/ConvCancer/blob/main/Pyradiomics.ipynb\" target=\"_parent\"><img src=\"https://colab.research.google.com/assets/colab-badge.svg\" alt=\"Open In Colab\"/></a>"
      ]
    },
    {
      "cell_type": "markdown",
      "source": [
        "### Installation and Setup"
      ],
      "metadata": {
        "id": "0HkV05VGizn4"
      }
    },
    {
      "cell_type": "code",
      "execution_count": 15,
      "metadata": {
        "id": "_T40Iqa5iowd",
        "colab": {
          "base_uri": "https://localhost:8080/"
        },
        "outputId": "39e7d495-6f21-4b5c-dd39-535dd040520c"
      },
      "outputs": [
        {
          "output_type": "stream",
          "name": "stdout",
          "text": [
            "Looking in indexes: https://pypi.org/simple, https://us-python.pkg.dev/colab-wheels/public/simple/\n",
            "Requirement already satisfied: pyradiomics in /usr/local/lib/python3.7/dist-packages (3.0.1)\n",
            "Requirement already satisfied: numpy>=1.9.2 in /usr/local/lib/python3.7/dist-packages (from pyradiomics) (1.21.6)\n",
            "Requirement already satisfied: six>=1.10.0 in /usr/local/lib/python3.7/dist-packages (from pyradiomics) (1.15.0)\n",
            "Requirement already satisfied: SimpleITK>=0.9.1 in /usr/local/lib/python3.7/dist-packages (from pyradiomics) (2.1.1.2)\n",
            "Requirement already satisfied: PyWavelets>=0.4.0 in /usr/local/lib/python3.7/dist-packages (from pyradiomics) (1.3.0)\n",
            "Requirement already satisfied: pykwalify>=1.6.0 in /usr/local/lib/python3.7/dist-packages (from pyradiomics) (1.8.0)\n",
            "Requirement already satisfied: docopt>=0.6.2 in /usr/local/lib/python3.7/dist-packages (from pykwalify>=1.6.0->pyradiomics) (0.6.2)\n",
            "Requirement already satisfied: python-dateutil>=2.8.0 in /usr/local/lib/python3.7/dist-packages (from pykwalify>=1.6.0->pyradiomics) (2.8.2)\n",
            "Requirement already satisfied: ruamel.yaml>=0.16.0 in /usr/local/lib/python3.7/dist-packages (from pykwalify>=1.6.0->pyradiomics) (0.17.21)\n",
            "Requirement already satisfied: ruamel.yaml.clib>=0.2.6 in /usr/local/lib/python3.7/dist-packages (from ruamel.yaml>=0.16.0->pykwalify>=1.6.0->pyradiomics) (0.2.6)\n"
          ]
        }
      ],
      "source": [
        "!python -m pip install pyradiomics"
      ]
    },
    {
      "cell_type": "markdown",
      "source": [
        "### Getting all the imports ready to use"
      ],
      "metadata": {
        "id": "GzWsinsRi9aR"
      }
    },
    {
      "cell_type": "code",
      "source": [
        "from __future__ import print_function\n",
        "import six \n",
        "import os  # needed navigate the system to get the input data\n",
        "\n",
        "import radiomics \n",
        "from radiomics import featureextractor  # This module is used for interaction with pyradiomics"
      ],
      "metadata": {
        "id": "YWXzwtPii8Ev"
      },
      "execution_count": 2,
      "outputs": []
    },
    {
      "cell_type": "markdown",
      "source": [
        "### Setting up data\n",
        "Here we are using built in functionality to create a sample test image and its mask for us. getTestCase method of radiomics module can handle the image data in the desired format"
      ],
      "metadata": {
        "id": "6geODz6djGhA"
      }
    },
    {
      "cell_type": "code",
      "source": [
        "imgsdir = '/content/sample-cancer-data' #place for storing sample data"
      ],
      "metadata": {
        "id": "Le429RnsjvDy"
      },
      "execution_count": 3,
      "outputs": []
    },
    {
      "cell_type": "code",
      "source": [
        "### making sure that path exists\n",
        "!rm -r {imgsdir}\n",
        "!mkdir {imgsdir}"
      ],
      "metadata": {
        "id": "Kc2ur6rIm75a",
        "colab": {
          "base_uri": "https://localhost:8080/"
        },
        "outputId": "e1fa0adc-e2b7-441f-c483-5fff911dfc38"
      },
      "execution_count": 4,
      "outputs": [
        {
          "output_type": "stream",
          "name": "stdout",
          "text": [
            "rm: cannot remove '/content/sample-cancer-data': No such file or directory\n"
          ]
        }
      ]
    },
    {
      "cell_type": "code",
      "source": [
        "# Get the testCase (from our brain images data set)\n",
        "imagePath, maskPath = radiomics.getTestCase('brain1', imgsdir)\n",
        "\n",
        "# sample will be stored in nrrd format in your imgsdir\n",
        "\n",
        "if imagePath is None or maskPath is None:  # Something went wrong, in this case PyRadiomics will also log an error\n",
        "    raise Exception('Error getting testcase!')  # Raise exception to prevent cells below from running in case of \"run all\"\n"
      ],
      "metadata": {
        "id": "fj9BIV1cjjV3"
      },
      "execution_count": 5,
      "outputs": []
    },
    {
      "cell_type": "code",
      "source": [
        "imagePath"
      ],
      "metadata": {
        "colab": {
          "base_uri": "https://localhost:8080/",
          "height": 35
        },
        "id": "fkrubJI5mlk2",
        "outputId": "b9b8db6a-d54f-463a-c18c-1de2a651cead"
      },
      "execution_count": 6,
      "outputs": [
        {
          "output_type": "execute_result",
          "data": {
            "text/plain": [
              "'/content/sample-cancer-data/brain1_image.nrrd'"
            ],
            "application/vnd.google.colaboratory.intrinsic+json": {
              "type": "string"
            }
          },
          "metadata": {},
          "execution_count": 6
        }
      ]
    },
    {
      "cell_type": "code",
      "source": [
        "maskPath"
      ],
      "metadata": {
        "colab": {
          "base_uri": "https://localhost:8080/",
          "height": 35
        },
        "id": "dRAsnKFhmoNm",
        "outputId": "31298bfa-5da3-422b-85ec-43edf910f8fb"
      },
      "execution_count": 7,
      "outputs": [
        {
          "output_type": "execute_result",
          "data": {
            "text/plain": [
              "'/content/sample-cancer-data/brain1_label.nrrd'"
            ],
            "application/vnd.google.colaboratory.intrinsic+json": {
              "type": "string"
            }
          },
          "metadata": {},
          "execution_count": 7
        }
      ]
    },
    {
      "cell_type": "markdown",
      "source": [
        "### Instantiating the extractor  \n",
        "Now that we have our input, we need to define the parameters and instantiate the extractor. \n",
        "\n",
        "For this there are three possibilities:\n",
        "\n",
        "1. Use defaults, don't define custom settings\n",
        "\n",
        "2. Define parameters in a dictionary, control filters and features after initialisation\n",
        "\n",
        "3. Use a parameter file - not using this one"
      ],
      "metadata": {
        "id": "C69dUurgj4ik"
      }
    },
    {
      "cell_type": "markdown",
      "source": [
        "#### 1. Using default settings"
      ],
      "metadata": {
        "id": "AJ9PuImMkehR"
      }
    },
    {
      "cell_type": "code",
      "source": [
        "# Instantiate the extractor\n",
        "extractor = featureextractor.RadiomicsFeatureExtractor()\n",
        "\n",
        "print('Extraction parameters:\\n\\t', extractor.settings)\n",
        "print('Enabled filters:\\n\\t', extractor.enabledImagetypes)\n",
        "print('Enabled features:\\n\\t', extractor.enabledFeatures)"
      ],
      "metadata": {
        "colab": {
          "base_uri": "https://localhost:8080/"
        },
        "id": "u5x6-w6qjzhR",
        "outputId": "307a3582-8ab0-4b24-8ab4-dd1e660b0cf6"
      },
      "execution_count": 8,
      "outputs": [
        {
          "output_type": "stream",
          "name": "stdout",
          "text": [
            "Extraction parameters:\n",
            "\t {'minimumROIDimensions': 2, 'minimumROISize': None, 'normalize': False, 'normalizeScale': 1, 'removeOutliers': None, 'resampledPixelSpacing': None, 'interpolator': 'sitkBSpline', 'preCrop': False, 'padDistance': 5, 'distances': [1], 'force2D': False, 'force2Ddimension': 0, 'resegmentRange': None, 'label': 1, 'additionalInfo': True}\n",
            "Enabled filters:\n",
            "\t {'Original': {}}\n",
            "Enabled features:\n",
            "\t {'firstorder': [], 'glcm': [], 'gldm': [], 'glrlm': [], 'glszm': [], 'ngtdm': [], 'shape': []}\n"
          ]
        }
      ]
    },
    {
      "cell_type": "code",
      "source": [
        "### start extraction\n",
        "result = extractor.execute(imagePath, maskPath)"
      ],
      "metadata": {
        "colab": {
          "base_uri": "https://localhost:8080/"
        },
        "id": "aJ7bbnL1kJlA",
        "outputId": "125a28ac-afc1-4c01-8f9b-e09b0377aab9"
      },
      "execution_count": 9,
      "outputs": [
        {
          "output_type": "stream",
          "name": "stderr",
          "text": [
            "GLCM is symmetrical, therefore Sum Average = 2 * Joint Average, only 1 needs to be calculated\n"
          ]
        }
      ]
    },
    {
      "cell_type": "code",
      "source": [
        "print('Result type:', type(result))  # result is returned in a Python ordered dictionary)\n",
        "print('')\n",
        "print('Calculated features')\n",
        "for key, value in six.iteritems(result):\n",
        "    print('\\t', key, ':', value)"
      ],
      "metadata": {
        "colab": {
          "base_uri": "https://localhost:8080/"
        },
        "id": "VBFSEvWBkR9x",
        "outputId": "5942721f-848a-46e0-e723-5d514084187d"
      },
      "execution_count": 10,
      "outputs": [
        {
          "output_type": "stream",
          "name": "stdout",
          "text": [
            "Result type: <class 'collections.OrderedDict'>\n",
            "\n",
            "Calculated features\n",
            "\t diagnostics_Versions_PyRadiomics : v3.0.1\n",
            "\t diagnostics_Versions_Numpy : 1.21.6\n",
            "\t diagnostics_Versions_SimpleITK : 2.1.1.2\n",
            "\t diagnostics_Versions_PyWavelet : 1.3.0\n",
            "\t diagnostics_Versions_Python : 3.7.13\n",
            "\t diagnostics_Configuration_Settings : {'minimumROIDimensions': 2, 'minimumROISize': None, 'normalize': False, 'normalizeScale': 1, 'removeOutliers': None, 'resampledPixelSpacing': None, 'interpolator': 'sitkBSpline', 'preCrop': False, 'padDistance': 5, 'distances': [1], 'force2D': False, 'force2Ddimension': 0, 'resegmentRange': None, 'label': 1, 'additionalInfo': True}\n",
            "\t diagnostics_Configuration_EnabledImageTypes : {'Original': {}}\n",
            "\t diagnostics_Image-original_Hash : 5c9ce3ca174f0f8324aa4d277e0fef82dc5ac566\n",
            "\t diagnostics_Image-original_Dimensionality : 3D\n",
            "\t diagnostics_Image-original_Spacing : (0.7812499999999999, 0.7812499999999999, 6.499999999999998)\n",
            "\t diagnostics_Image-original_Size : (256, 256, 25)\n",
            "\t diagnostics_Image-original_Mean : 385.6564080810547\n",
            "\t diagnostics_Image-original_Minimum : 0.0\n",
            "\t diagnostics_Image-original_Maximum : 3057.0\n",
            "\t diagnostics_Mask-original_Hash : 9dc2c3137b31fd872997d92c9a92d5178126d9d3\n",
            "\t diagnostics_Mask-original_Spacing : (0.7812499999999999, 0.7812499999999999, 6.499999999999998)\n",
            "\t diagnostics_Mask-original_Size : (256, 256, 25)\n",
            "\t diagnostics_Mask-original_BoundingBox : (162, 84, 11, 47, 70, 7)\n",
            "\t diagnostics_Mask-original_VoxelNum : 4137\n",
            "\t diagnostics_Mask-original_VolumeNum : 2\n",
            "\t diagnostics_Mask-original_CenterOfMassIndex : (186.98549673676578, 106.3562968334542, 14.38917089678511)\n",
            "\t diagnostics_Mask-original_CenterOfMass : (46.47304432559825, 16.518518098863908, 15.529610829103234)\n",
            "\t original_shape_Elongation : 0.5621171627174117\n",
            "\t original_shape_Flatness : 0.46105975346582595\n",
            "\t original_shape_LeastAxisLength : 28.58442318537648\n",
            "\t original_shape_MajorAxisLength : 61.99722046980875\n",
            "\t original_shape_Maximum2DDiameterColumn : 49.490854979101925\n",
            "\t original_shape_Maximum2DDiameterRow : 65.88905951721043\n",
            "\t original_shape_Maximum2DDiameterSlice : 53.59397776919529\n",
            "\t original_shape_Maximum3DDiameter : 69.60099030590368\n",
            "\t original_shape_MeshVolume : 16147.51180013021\n",
            "\t original_shape_MinorAxisLength : 34.849701666854735\n",
            "\t original_shape_Sphericity : 0.4798234536231475\n",
            "\t original_shape_SurfaceArea : 6438.821603779402\n",
            "\t original_shape_SurfaceVolumeRatio : 0.3987500788652454\n",
            "\t original_shape_VoxelVolume : 16412.658691406243\n",
            "\t original_firstorder_10Percentile : 632.0\n",
            "\t original_firstorder_90Percentile : 1044.4\n",
            "\t original_firstorder_Energy : 2918821481.0\n",
            "\t original_firstorder_Entropy : 4.601935553903786\n",
            "\t original_firstorder_InterquartileRange : 253.0\n",
            "\t original_firstorder_Kurtosis : 2.1807729393860265\n",
            "\t original_firstorder_Maximum : 1266.0\n",
            "\t original_firstorder_MeanAbsoluteDeviation : 133.44726195252767\n",
            "\t original_firstorder_Mean : 825.2354363065023\n",
            "\t original_firstorder_Median : 812.0\n",
            "\t original_firstorder_Minimum : 468.0\n",
            "\t original_firstorder_Range : 798.0\n",
            "\t original_firstorder_RobustMeanAbsoluteDeviation : 103.00138343026683\n",
            "\t original_firstorder_RootMeanSquared : 839.9646448180755\n",
            "\t original_firstorder_Skewness : 0.27565085908587594\n",
            "\t original_firstorder_TotalEnergy : 11579797135.314934\n",
            "\t original_firstorder_Uniformity : 0.045156963555862184\n",
            "\t original_firstorder_Variance : 24527.07920837261\n",
            "\t original_glcm_Autocorrelation : 289.5436994017259\n",
            "\t original_glcm_ClusterProminence : 27995.937591943148\n",
            "\t original_glcm_ClusterShade : 19.605083427286676\n",
            "\t original_glcm_ClusterTendency : 108.73139325453903\n",
            "\t original_glcm_Contrast : 47.492125114429776\n",
            "\t original_glcm_Correlation : 0.3917522006696661\n",
            "\t original_glcm_DifferenceAverage : 5.284468789866316\n",
            "\t original_glcm_DifferenceEntropy : 3.74406097806642\n",
            "\t original_glcm_DifferenceVariance : 16.65563705027098\n",
            "\t original_glcm_Id : 0.28722572382985156\n",
            "\t original_glcm_Idm : 0.20022255640475703\n",
            "\t original_glcm_Idmn : 0.961402169623227\n",
            "\t original_glcm_Idn : 0.8726052157397169\n",
            "\t original_glcm_Imc1 : -0.09438938808738298\n",
            "\t original_glcm_Imc2 : 0.6942249020670357\n",
            "\t original_glcm_InverseVariance : 0.19881884197093194\n",
            "\t original_glcm_JointAverage : 16.55380772442751\n",
            "\t original_glcm_JointEnergy : 0.002893149242988865\n",
            "\t original_glcm_JointEntropy : 8.799696270248813\n",
            "\t original_glcm_MCC : 0.49904046795855567\n",
            "\t original_glcm_MaximumProbability : 0.007352392266290182\n",
            "\t original_glcm_SumAverage : 33.10761544885502\n",
            "\t original_glcm_SumEntropy : 5.354241321485615\n",
            "\t original_glcm_SumSquares : 39.05587959224222\n",
            "\t original_gldm_DependenceEntropy : 6.885019899269458\n",
            "\t original_gldm_DependenceNonUniformity : 936.6601401982113\n",
            "\t original_gldm_DependenceNonUniformityNormalized : 0.22641047623838803\n",
            "\t original_gldm_DependenceVariance : 2.1619872286911965\n",
            "\t original_gldm_GrayLevelNonUniformity : 186.8143582306019\n",
            "\t original_gldm_GrayLevelVariance : 39.19271419906397\n",
            "\t original_gldm_HighGrayLevelEmphasis : 280.4065748126662\n",
            "\t original_gldm_LargeDependenceEmphasis : 8.661590524534686\n",
            "\t original_gldm_LargeDependenceHighGrayLevelEmphasis : 2335.0519700265895\n",
            "\t original_gldm_LargeDependenceLowGrayLevelEmphasis : 0.07650590736710827\n",
            "\t original_gldm_LowGrayLevelEmphasis : 0.00860027409479837\n",
            "\t original_gldm_SmallDependenceEmphasis : 0.37960167130711403\n",
            "\t original_gldm_SmallDependenceHighGrayLevelEmphasis : 110.30563945728201\n",
            "\t original_gldm_SmallDependenceLowGrayLevelEmphasis : 0.0035453562622343696\n",
            "\t original_glrlm_GrayLevelNonUniformity : 175.6351923150419\n",
            "\t original_glrlm_GrayLevelNonUniformityNormalized : 0.04514123814981055\n",
            "\t original_glrlm_GrayLevelVariance : 39.118151021979244\n",
            "\t original_glrlm_HighGrayLevelRunEmphasis : 281.066493908972\n",
            "\t original_glrlm_LongRunEmphasis : 1.2268440382584342\n",
            "\t original_glrlm_LongRunHighGrayLevelEmphasis : 341.2865790983503\n",
            "\t original_glrlm_LongRunLowGrayLevelEmphasis : 0.010601170478748765\n",
            "\t original_glrlm_LowGrayLevelRunEmphasis : 0.008600397891661503\n",
            "\t original_glrlm_RunEntropy : 4.915038003159503\n",
            "\t original_glrlm_RunLengthNonUniformity : 3500.0432315746298\n",
            "\t original_glrlm_RunLengthNonUniformityNormalized : 0.8950494659480998\n",
            "\t original_glrlm_RunPercentage : 0.9404064632491029\n",
            "\t original_glrlm_RunVariance : 0.08479457789590625\n",
            "\t original_glrlm_ShortRunEmphasis : 0.9559391731405504\n",
            "\t original_glrlm_ShortRunHighGrayLevelEmphasis : 268.9741798411307\n",
            "\t original_glrlm_ShortRunLowGrayLevelEmphasis : 0.008229766244155428\n",
            "\t original_glszm_GrayLevelNonUniformity : 82.38716577540107\n",
            "\t original_glszm_GrayLevelNonUniformityNormalized : 0.044057307901283996\n",
            "\t original_glszm_GrayLevelVariance : 40.60313992393263\n",
            "\t original_glszm_HighGrayLevelZoneEmphasis : 288.6235294117647\n",
            "\t original_glszm_LargeAreaEmphasis : 13.615508021390374\n",
            "\t original_glszm_LargeAreaHighGrayLevelEmphasis : 3514.7614973262034\n",
            "\t original_glszm_LargeAreaLowGrayLevelEmphasis : 0.12723841553344326\n",
            "\t original_glszm_LowGrayLevelZoneEmphasis : 0.009100942027706215\n",
            "\t original_glszm_SizeZoneNonUniformity : 747.5967914438503\n",
            "\t original_glszm_SizeZoneNonUniformityNormalized : 0.3997843804512568\n",
            "\t original_glszm_SmallAreaEmphasis : 0.6564478999587141\n",
            "\t original_glszm_SmallAreaHighGrayLevelEmphasis : 193.438051925864\n",
            "\t original_glszm_SmallAreaLowGrayLevelEmphasis : 0.006416982055097711\n",
            "\t original_glszm_ZoneEntropy : 6.50821498619819\n",
            "\t original_glszm_ZonePercentage : 0.4520183708000967\n",
            "\t original_glszm_ZoneVariance : 8.721239097486347\n",
            "\t original_ngtdm_Busyness : 1.4467306835644076\n",
            "\t original_ngtdm_Coarseness : 0.001712035271356631\n",
            "\t original_ngtdm_Complexity : 1439.5127782445836\n",
            "\t original_ngtdm_Contrast : 0.24786529128414\n",
            "\t original_ngtdm_Strength : 0.6307314827348611\n"
          ]
        }
      ]
    },
    {
      "cell_type": "markdown",
      "source": [
        "###2.  Custom Settings"
      ],
      "metadata": {
        "id": "I5gOb0GWknoV"
      }
    },
    {
      "cell_type": "code",
      "source": [
        "extractor = featureextractor.RadiomicsFeatureExtractor(binWidth=20, sigma=[1, 2, 3])  # adding custom parameters settings\n",
        "\n",
        "\n",
        "### lets have a look on new settings\n",
        "print('Extraction parameters:\\n\\t', extractor.settings)\n",
        "print('Enabled filters:\\n\\t', extractor.enabledImagetypes)  # Still the default parameters\n",
        "print('Enabled features:\\n\\t', extractor.enabledFeatures)  # Still the default parameters\n"
      ],
      "metadata": {
        "colab": {
          "base_uri": "https://localhost:8080/"
        },
        "id": "ml-df_ktkUr1",
        "outputId": "cfebf1a0-d6df-49bc-8582-7420ebbda07e"
      },
      "execution_count": 11,
      "outputs": [
        {
          "output_type": "stream",
          "name": "stdout",
          "text": [
            "Extraction parameters:\n",
            "\t {'minimumROIDimensions': 2, 'minimumROISize': None, 'normalize': False, 'normalizeScale': 1, 'removeOutliers': None, 'resampledPixelSpacing': None, 'interpolator': 'sitkBSpline', 'preCrop': False, 'padDistance': 5, 'distances': [1], 'force2D': False, 'force2Ddimension': 0, 'resegmentRange': None, 'label': 1, 'additionalInfo': True, 'binWidth': 20, 'sigma': [1, 2, 3]}\n",
            "Enabled filters:\n",
            "\t {'Original': {}}\n",
            "Enabled features:\n",
            "\t {'firstorder': [], 'glcm': [], 'gldm': [], 'glrlm': [], 'glszm': [], 'ngtdm': [], 'shape': []}\n"
          ]
        }
      ]
    },
    {
      "cell_type": "code",
      "source": [
        "# Enable a filter (in addition to the 'Original' filter already enabled)\n",
        "extractor.enableImageTypeByName('LoG')\n",
        "print('')\n",
        "print('Enabled filters:\\n\\t', extractor.enabledImagetypes)\n",
        "\n",
        "# Disable all feature classes, save firstorder\n",
        "extractor.disableAllFeatures()\n",
        "extractor.enableFeatureClassByName('firstorder')\n",
        "print('')\n",
        "print('Enabled features:\\n\\t', extractor.enabledFeatures)\n",
        "\n",
        "# Specify some additional features in the GLCM feature class\n",
        "extractor.enableFeaturesByName(glcm=['Autocorrelation', 'Homogeneity1', 'SumSquares'])\n",
        "print('')\n",
        "print('Enabled features:\\n\\t', extractor.enabledFeatures)"
      ],
      "metadata": {
        "colab": {
          "base_uri": "https://localhost:8080/"
        },
        "id": "1w7xpqjqkuTr",
        "outputId": "31fbe12f-d15b-41bd-f6ff-7a853b81ee96"
      },
      "execution_count": 12,
      "outputs": [
        {
          "output_type": "stream",
          "name": "stdout",
          "text": [
            "\n",
            "Enabled filters:\n",
            "\t {'Original': {}, 'LoG': {}}\n",
            "\n",
            "Enabled features:\n",
            "\t {'firstorder': []}\n",
            "\n",
            "Enabled features:\n",
            "\t {'firstorder': [], 'glcm': ['Autocorrelation', 'Homogeneity1', 'SumSquares']}\n"
          ]
        }
      ]
    },
    {
      "cell_type": "code",
      "source": [
        "### extract features with new settings\n",
        "result = extractor.execute(imagePath, maskPath)"
      ],
      "metadata": {
        "colab": {
          "base_uri": "https://localhost:8080/"
        },
        "id": "gfqrlrOLkwr-",
        "outputId": "1703f660-3b3a-4bf2-f69e-fd9b02aa0451"
      },
      "execution_count": 13,
      "outputs": [
        {
          "output_type": "stream",
          "name": "stderr",
          "text": [
            "Feature Homogeneity1 is deprecated, use with caution!\n",
            "Feature Homogeneity1 is deprecated, use with caution!\n",
            "Feature Homogeneity1 is deprecated, use with caution!\n",
            "Feature Homogeneity1 is deprecated, use with caution!\n"
          ]
        }
      ]
    },
    {
      "cell_type": "code",
      "source": [
        "print('Result type:', type(result))  # result is returned in a Python ordered dictionary)\n",
        "print('')\n",
        "print('Calculated features')\n",
        "for key, value in six.iteritems(result):\n",
        "    print('\\t', key, ':', value)"
      ],
      "metadata": {
        "colab": {
          "base_uri": "https://localhost:8080/"
        },
        "id": "VMo3aequk0Fl",
        "outputId": "302ed867-4ec0-4d56-87d9-ebabcc4024d4"
      },
      "execution_count": 14,
      "outputs": [
        {
          "output_type": "stream",
          "name": "stdout",
          "text": [
            "Result type: <class 'collections.OrderedDict'>\n",
            "\n",
            "Calculated features\n",
            "\t diagnostics_Versions_PyRadiomics : v3.0.1\n",
            "\t diagnostics_Versions_Numpy : 1.21.6\n",
            "\t diagnostics_Versions_SimpleITK : 2.1.1.2\n",
            "\t diagnostics_Versions_PyWavelet : 1.3.0\n",
            "\t diagnostics_Versions_Python : 3.7.13\n",
            "\t diagnostics_Configuration_Settings : {'minimumROIDimensions': 2, 'minimumROISize': None, 'normalize': False, 'normalizeScale': 1, 'removeOutliers': None, 'resampledPixelSpacing': None, 'interpolator': 'sitkBSpline', 'preCrop': False, 'padDistance': 5, 'distances': [1], 'force2D': False, 'force2Ddimension': 0, 'resegmentRange': None, 'label': 1, 'additionalInfo': True, 'binWidth': 20, 'sigma': [1, 2, 3]}\n",
            "\t diagnostics_Configuration_EnabledImageTypes : {'Original': {}, 'LoG': {}}\n",
            "\t diagnostics_Image-original_Hash : 5c9ce3ca174f0f8324aa4d277e0fef82dc5ac566\n",
            "\t diagnostics_Image-original_Dimensionality : 3D\n",
            "\t diagnostics_Image-original_Spacing : (0.7812499999999999, 0.7812499999999999, 6.499999999999998)\n",
            "\t diagnostics_Image-original_Size : (256, 256, 25)\n",
            "\t diagnostics_Image-original_Mean : 385.6564080810547\n",
            "\t diagnostics_Image-original_Minimum : 0.0\n",
            "\t diagnostics_Image-original_Maximum : 3057.0\n",
            "\t diagnostics_Mask-original_Hash : 9dc2c3137b31fd872997d92c9a92d5178126d9d3\n",
            "\t diagnostics_Mask-original_Spacing : (0.7812499999999999, 0.7812499999999999, 6.499999999999998)\n",
            "\t diagnostics_Mask-original_Size : (256, 256, 25)\n",
            "\t diagnostics_Mask-original_BoundingBox : (162, 84, 11, 47, 70, 7)\n",
            "\t diagnostics_Mask-original_VoxelNum : 4137\n",
            "\t diagnostics_Mask-original_VolumeNum : 2\n",
            "\t diagnostics_Mask-original_CenterOfMassIndex : (186.98549673676578, 106.3562968334542, 14.38917089678511)\n",
            "\t diagnostics_Mask-original_CenterOfMass : (46.47304432559825, 16.518518098863908, 15.529610829103234)\n",
            "\t original_firstorder_10Percentile : 632.0\n",
            "\t original_firstorder_90Percentile : 1044.4\n",
            "\t original_firstorder_Energy : 2918821481.0\n",
            "\t original_firstorder_Entropy : 4.920992838328338\n",
            "\t original_firstorder_InterquartileRange : 253.0\n",
            "\t original_firstorder_Kurtosis : 2.1807729393860265\n",
            "\t original_firstorder_Maximum : 1266.0\n",
            "\t original_firstorder_MeanAbsoluteDeviation : 133.44726195252767\n",
            "\t original_firstorder_Mean : 825.2354363065023\n",
            "\t original_firstorder_Median : 812.0\n",
            "\t original_firstorder_Minimum : 468.0\n",
            "\t original_firstorder_Range : 798.0\n",
            "\t original_firstorder_RobustMeanAbsoluteDeviation : 103.00138343026683\n",
            "\t original_firstorder_RootMeanSquared : 839.9646448180755\n",
            "\t original_firstorder_Skewness : 0.27565085908587594\n",
            "\t original_firstorder_TotalEnergy : 11579797135.314934\n",
            "\t original_firstorder_Uniformity : 0.03626978547008142\n",
            "\t original_firstorder_Variance : 24527.07920837261\n",
            "\t original_glcm_Autocorrelation : 426.9144955153632\n",
            "\t original_glcm_SumSquares : 61.065765198779744\n",
            "\t log-sigma-1-mm-3D_firstorder_10Percentile : -104.93405303955078\n",
            "\t log-sigma-1-mm-3D_firstorder_90Percentile : 54.79034423828126\n",
            "\t log-sigma-1-mm-3D_firstorder_Energy : 18272859.744011104\n",
            "\t log-sigma-1-mm-3D_firstorder_Entropy : 3.6904207681220935\n",
            "\t log-sigma-1-mm-3D_firstorder_InterquartileRange : 81.87671852111816\n",
            "\t log-sigma-1-mm-3D_firstorder_Kurtosis : 3.0718243807249306\n",
            "\t log-sigma-1-mm-3D_firstorder_Maximum : 164.7267608642578\n",
            "\t log-sigma-1-mm-3D_firstorder_MeanAbsoluteDeviation : 49.664661651136576\n",
            "\t log-sigma-1-mm-3D_firstorder_Mean : -22.046027443210075\n",
            "\t log-sigma-1-mm-3D_firstorder_Median : -18.91979217529297\n",
            "\t log-sigma-1-mm-3D_firstorder_Minimum : -255.25962829589844\n",
            "\t log-sigma-1-mm-3D_firstorder_Range : 419.98638916015625\n",
            "\t log-sigma-1-mm-3D_firstorder_RobustMeanAbsoluteDeviation : 34.30945152372748\n",
            "\t log-sigma-1-mm-3D_firstorder_RootMeanSquared : 66.46002494100189\n",
            "\t log-sigma-1-mm-3D_firstorder_Skewness : -0.22090525170411393\n",
            "\t log-sigma-1-mm-3D_firstorder_TotalEnergy : 72493645.22465338\n",
            "\t log-sigma-1-mm-3D_firstorder_Uniformity : 0.09146912821318245\n",
            "\t log-sigma-1-mm-3D_firstorder_Variance : 3930.907589131821\n",
            "\t log-sigma-1-mm-3D_glcm_Autocorrelation : 158.94161358114894\n",
            "\t log-sigma-1-mm-3D_glcm_SumSquares : 9.906746861090935\n",
            "\t log-sigma-2-mm-3D_firstorder_10Percentile : -156.92530517578123\n",
            "\t log-sigma-2-mm-3D_firstorder_90Percentile : 33.72339248657228\n",
            "\t log-sigma-2-mm-3D_firstorder_Energy : 36470690.6741649\n",
            "\t log-sigma-2-mm-3D_firstorder_Entropy : 3.9374220962785427\n",
            "\t log-sigma-2-mm-3D_firstorder_InterquartileRange : 97.78975415229797\n",
            "\t log-sigma-2-mm-3D_firstorder_Kurtosis : 3.20297440291264\n",
            "\t log-sigma-2-mm-3D_firstorder_Maximum : 146.8539581298828\n",
            "\t log-sigma-2-mm-3D_firstorder_MeanAbsoluteDeviation : 59.810289407925076\n",
            "\t log-sigma-2-mm-3D_firstorder_Mean : -55.51394134967734\n",
            "\t log-sigma-2-mm-3D_firstorder_Median : -48.21199417114258\n",
            "\t log-sigma-2-mm-3D_firstorder_Minimum : -315.0959777832031\n",
            "\t log-sigma-2-mm-3D_firstorder_Range : 461.94993591308594\n",
            "\t log-sigma-2-mm-3D_firstorder_RobustMeanAbsoluteDeviation : 40.97625965604661\n",
            "\t log-sigma-2-mm-3D_firstorder_RootMeanSquared : 93.89213910843893\n",
            "\t log-sigma-2-mm-3D_firstorder_Skewness : -0.4568283248118485\n",
            "\t log-sigma-2-mm-3D_firstorder_TotalEnergy : 144689629.7497996\n",
            "\t log-sigma-2-mm-3D_firstorder_Uniformity : 0.07731994513043092\n",
            "\t log-sigma-2-mm-3D_firstorder_Variance : 5733.936102183033\n",
            "\t log-sigma-2-mm-3D_glcm_Autocorrelation : 193.7588005888792\n",
            "\t log-sigma-2-mm-3D_glcm_SumSquares : 14.323979941609215\n",
            "\t log-sigma-3-mm-3D_firstorder_10Percentile : -197.01734008789063\n",
            "\t log-sigma-3-mm-3D_firstorder_90Percentile : 13.917341041564946\n",
            "\t log-sigma-3-mm-3D_firstorder_Energy : 56119386.49315185\n",
            "\t log-sigma-3-mm-3D_firstorder_Entropy : 4.035415339157783\n",
            "\t log-sigma-3-mm-3D_firstorder_InterquartileRange : 103.15813827514648\n",
            "\t log-sigma-3-mm-3D_firstorder_Kurtosis : 3.1833658319698688\n",
            "\t log-sigma-3-mm-3D_firstorder_Maximum : 114.29669189453125\n",
            "\t log-sigma-3-mm-3D_firstorder_MeanAbsoluteDeviation : 64.33120246325181\n",
            "\t log-sigma-3-mm-3D_firstorder_Mean : -82.73554694841455\n",
            "\t log-sigma-3-mm-3D_firstorder_Median : -73.3129653930664\n",
            "\t log-sigma-3-mm-3D_firstorder_Minimum : -354.3352355957031\n",
            "\t log-sigma-3-mm-3D_firstorder_Range : 468.6319274902344\n",
            "\t log-sigma-3-mm-3D_firstorder_RobustMeanAbsoluteDeviation : 43.37792439842861\n",
            "\t log-sigma-3-mm-3D_firstorder_RootMeanSquared : 116.46989846118638\n",
            "\t log-sigma-3-mm-3D_firstorder_Skewness : -0.49838634399478493\n",
            "\t log-sigma-3-mm-3D_firstorder_TotalEnergy : 222641609.01213792\n",
            "\t log-sigma-3-mm-3D_firstorder_Uniformity : 0.07292339148720033\n",
            "\t log-sigma-3-mm-3D_firstorder_Variance : 6720.0665187057575\n",
            "\t log-sigma-3-mm-3D_glcm_Autocorrelation : 205.82027341539165\n",
            "\t log-sigma-3-mm-3D_glcm_SumSquares : 16.60985878595956\n"
          ]
        }
      ]
    },
    {
      "cell_type": "markdown",
      "source": [
        "##### Features seem little different as new paramters are added now."
      ],
      "metadata": {
        "id": "VoBZYJMqoYM1"
      }
    }
  ]
}