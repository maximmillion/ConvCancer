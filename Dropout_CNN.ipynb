{
  "cells": [
    {
      "cell_type": "markdown",
      "metadata": {
        "id": "view-in-github",
        "colab_type": "text"
      },
      "source": [
        "<a href=\"https://colab.research.google.com/github/maximmillion/ConvCancer/blob/main/Dropout_CNN.ipynb\" target=\"_parent\"><img src=\"https://colab.research.google.com/assets/colab-badge.svg\" alt=\"Open In Colab\"/></a>"
      ]
    },
    {
      "cell_type": "code",
      "execution_count": null,
      "metadata": {
        "id": "F0guP-hn_snz"
      },
      "outputs": [],
      "source": [
        "import numpy as np\n",
        "import os\n",
        "from tqdm import tqdm\n",
        "\n",
        "from skimage.io import imread"
      ]
    },
    {
      "cell_type": "markdown",
      "metadata": {
        "id": "LblQqKQD_sn1"
      },
      "source": [
        "# Making the Dataset:"
      ]
    },
    {
      "cell_type": "code",
      "execution_count": null,
      "metadata": {
        "colab": {
          "base_uri": "https://localhost:8080/"
        },
        "id": "dLMJICjv_sn1",
        "outputId": "470b3182-40a1-4134-ddfb-1b787eaecc54"
      },
      "outputs": [
        {
          "output_type": "stream",
          "name": "stderr",
          "text": [
            "100%|██████████| 250/250 [00:01<00:00, 175.99it/s]\n",
            "100%|██████████| 250/250 [00:01<00:00, 178.39it/s]\n",
            "100%|██████████| 250/250 [00:01<00:00, 175.01it/s]\n"
          ]
        },
        {
          "output_type": "execute_result",
          "data": {
            "text/plain": [
              "(750, 512, 512)"
            ]
          },
          "metadata": {},
          "execution_count": 16
        }
      ],
      "source": [
        "# read all the images first\n",
        "x_train = []\n",
        "for i in range(1, 4): # changed to 3 classes\n",
        "    base_dir = f'/content/drive/MyDrive/cancer_dataG/stage_{i}_png/'\n",
        "    files = os.listdir(base_dir)\n",
        "    for file in tqdm(files):\n",
        "        img = imread(base_dir+file)\n",
        "        x_train.append(img)\n",
        "X_train = np.array(x_train)\n",
        "X_train.shape"
      ]
    },
    {
      "cell_type": "code",
      "source": [
        "from google.colab import drive\n",
        "drive.mount('/content/drive')"
      ],
      "metadata": {
        "colab": {
          "base_uri": "https://localhost:8080/"
        },
        "id": "G45EdqyZ_yPb",
        "outputId": "629e3476-e300-4a5b-a2d9-7a9a9b68a45a"
      },
      "execution_count": null,
      "outputs": [
        {
          "output_type": "stream",
          "name": "stdout",
          "text": [
            "Drive already mounted at /content/drive; to attempt to forcibly remount, call drive.mount(\"/content/drive\", force_remount=True).\n"
          ]
        }
      ]
    },
    {
      "cell_type": "code",
      "execution_count": null,
      "metadata": {
        "id": "3SoFL1rw_sn2"
      },
      "outputs": [],
      "source": [
        "NUM = 250\n",
        "CLASSES = 3 #4\n",
        "y_train = []\n",
        "class_label = 0\n",
        "for i in range(NUM * CLASSES):\n",
        "    if i > 0 and i %  NUM == 0:\n",
        "        class_label += 1\n",
        "    y_train.append(class_label)\n",
        "Y_train = np.array(y_train)"
      ]
    },
    {
      "cell_type": "markdown",
      "metadata": {
        "id": "vKajIAdb_sn2"
      },
      "source": [
        "## Convert Labels to categorical:"
      ]
    },
    {
      "cell_type": "code",
      "execution_count": null,
      "metadata": {
        "colab": {
          "base_uri": "https://localhost:8080/"
        },
        "id": "82n1pUH-_sn3",
        "outputId": "bc6470fd-890a-46de-81d4-c45ce106f84a"
      },
      "outputs": [
        {
          "output_type": "stream",
          "name": "stdout",
          "text": [
            "(750,)\n",
            "(750, 3)\n"
          ]
        }
      ],
      "source": [
        "from tensorflow.keras.utils import to_categorical\n",
        "\n",
        "print(Y_train.shape)\n",
        "\n",
        "Y_train =to_categorical(Y_train)\n",
        "\n",
        "print(Y_train.shape)"
      ]
    },
    {
      "cell_type": "markdown",
      "metadata": {
        "id": "ZAGWGiKD_sn3"
      },
      "source": [
        "## Normalize dataset:"
      ]
    },
    {
      "cell_type": "code",
      "execution_count": null,
      "metadata": {
        "colab": {
          "base_uri": "https://localhost:8080/"
        },
        "id": "BnDI0lkQ_sn3",
        "outputId": "8bbf6764-4a00-41d8-88b7-9edbdd7d0d3e"
      },
      "outputs": [
        {
          "output_type": "stream",
          "name": "stdout",
          "text": [
            "Maximum before:  255\n",
            "Mean before:  44.30185897318522\n",
            "Maximum after:  1.0\n",
            "Mean after:  0.023893302078675856\n"
          ]
        }
      ],
      "source": [
        "from tensorflow.keras.utils import normalize\n",
        "\n",
        "print('Maximum before: ', np.max(X_train))\n",
        "print('Mean before: ', np.mean(X_train))\n",
        "\n",
        "X_train = normalize(X_train, axis=1) # divide by 255\n",
        "\n",
        "print('Maximum after: ', np.max(X_train))\n",
        "print('Mean after: ', np.mean(X_train))"
      ]
    },
    {
      "cell_type": "markdown",
      "metadata": {
        "id": "A7coIxCu_sn3"
      },
      "source": [
        "## Splitting Data:"
      ]
    },
    {
      "cell_type": "code",
      "execution_count": null,
      "metadata": {
        "colab": {
          "base_uri": "https://localhost:8080/"
        },
        "id": "IaXbTL4q_sn3",
        "outputId": "8504959a-d0b4-4d97-bb46-d9651f7d1452"
      },
      "outputs": [
        {
          "output_type": "stream",
          "name": "stdout",
          "text": [
            "(600, 512, 512)\n",
            "(150, 512, 512)\n"
          ]
        }
      ],
      "source": [
        "from sklearn.model_selection import train_test_split\n",
        "\n",
        "x_train, x_test, y_train, y_test = train_test_split(X_train, Y_train,\n",
        "                                                    stratify=Y_train, \n",
        "                                                    test_size=0.2)\n",
        "\n",
        "print(x_train.shape)\n",
        "print(x_test.shape)"
      ]
    },
    {
      "cell_type": "markdown",
      "metadata": {
        "id": "VIAWfGVu_sn3"
      },
      "source": [
        "# Model Work:"
      ]
    },
    {
      "cell_type": "markdown",
      "metadata": {
        "id": "fLIuvj9t_sn4"
      },
      "source": [
        "## Making the model:"
      ]
    },
    {
      "cell_type": "code",
      "execution_count": null,
      "metadata": {
        "id": "_ZVvAJ-2_sn4"
      },
      "outputs": [],
      "source": [
        "from keras.preprocessing.image import ImageDataGenerator\n",
        "from keras.models import Sequential\n",
        "from keras.layers import Conv2D, MaxPooling2D, BatchNormalization\n",
        "from keras.layers import Activation, Dropout, Flatten, Dense, Reshape\n",
        "\n",
        "WIDTH = 512\n",
        "INPUT_SHAPE = (WIDTH, WIDTH)   \n",
        "\n",
        "model = Sequential()\n",
        "model.add(Reshape((WIDTH, WIDTH, 1), input_shape=INPUT_SHAPE))\n",
        "model.add(Conv2D(32, (3, 3)))\n",
        "model.add(Activation('relu'))\n",
        "model.add(MaxPooling2D(pool_size=(2, 2)))\n",
        "\n",
        "model.add(Conv2D(32, (3, 3), kernel_initializer = 'he_uniform'))\n",
        "model.add(Activation('relu'))\n",
        "model.add(MaxPooling2D(pool_size=(2, 2)))\n",
        "\n",
        "model.add(Conv2D(64, (3, 3), kernel_initializer = 'he_uniform'))\n",
        "model.add(Activation('relu'))\n",
        "model.add(MaxPooling2D(pool_size=(2, 2)))\n",
        "\n",
        "model.add(Flatten())\n",
        "model.add(Dense(64))\n",
        "model.add(Activation('relu'))\n",
        "model.add(Dropout(0.5))\n",
        "\n",
        "model.add(Dense(CLASSES))\n",
        "model.add(Activation('softmax'))"
      ]
    },
    {
      "cell_type": "markdown",
      "metadata": {
        "id": "Roc7B4kA_sn4"
      },
      "source": [
        "## Compiling the model:"
      ]
    },
    {
      "cell_type": "code",
      "execution_count": null,
      "metadata": {
        "id": "r8N_gH_G_sn4"
      },
      "outputs": [],
      "source": [
        "model.compile(optimizer = 'rmsprop',loss = 'categorical_crossentropy', metrics = ['accuracy'])"
      ]
    },
    {
      "cell_type": "markdown",
      "metadata": {
        "id": "eWE2Uqh7_sn4"
      },
      "source": [
        "## Model Summary:"
      ]
    },
    {
      "cell_type": "code",
      "execution_count": null,
      "metadata": {
        "colab": {
          "base_uri": "https://localhost:8080/"
        },
        "id": "AplQYU9k_sn4",
        "outputId": "a6e37719-2ec9-40a8-fd83-c4eedcbd6124"
      },
      "outputs": [
        {
          "output_type": "stream",
          "name": "stdout",
          "text": [
            "Model: \"sequential_1\"\n",
            "_________________________________________________________________\n",
            " Layer (type)                Output Shape              Param #   \n",
            "=================================================================\n",
            " reshape_1 (Reshape)         (None, 512, 512, 1)       0         \n",
            "                                                                 \n",
            " conv2d_3 (Conv2D)           (None, 510, 510, 32)      320       \n",
            "                                                                 \n",
            " activation_5 (Activation)   (None, 510, 510, 32)      0         \n",
            "                                                                 \n",
            " max_pooling2d_3 (MaxPooling  (None, 255, 255, 32)     0         \n",
            " 2D)                                                             \n",
            "                                                                 \n",
            " conv2d_4 (Conv2D)           (None, 253, 253, 32)      9248      \n",
            "                                                                 \n",
            " activation_6 (Activation)   (None, 253, 253, 32)      0         \n",
            "                                                                 \n",
            " max_pooling2d_4 (MaxPooling  (None, 126, 126, 32)     0         \n",
            " 2D)                                                             \n",
            "                                                                 \n",
            " conv2d_5 (Conv2D)           (None, 124, 124, 64)      18496     \n",
            "                                                                 \n",
            " activation_7 (Activation)   (None, 124, 124, 64)      0         \n",
            "                                                                 \n",
            " max_pooling2d_5 (MaxPooling  (None, 62, 62, 64)       0         \n",
            " 2D)                                                             \n",
            "                                                                 \n",
            " flatten_1 (Flatten)         (None, 246016)            0         \n",
            "                                                                 \n",
            " dense_2 (Dense)             (None, 64)                15745088  \n",
            "                                                                 \n",
            " activation_8 (Activation)   (None, 64)                0         \n",
            "                                                                 \n",
            " dropout_1 (Dropout)         (None, 64)                0         \n",
            "                                                                 \n",
            " dense_3 (Dense)             (None, 3)                 195       \n",
            "                                                                 \n",
            " activation_9 (Activation)   (None, 3)                 0         \n",
            "                                                                 \n",
            "=================================================================\n",
            "Total params: 15,773,347\n",
            "Trainable params: 15,773,347\n",
            "Non-trainable params: 0\n",
            "_________________________________________________________________\n"
          ]
        }
      ],
      "source": [
        "model.summary()"
      ]
    },
    {
      "cell_type": "markdown",
      "metadata": {
        "id": "QOP9Viia_sn4"
      },
      "source": [
        "## Training the model:"
      ]
    },
    {
      "cell_type": "code",
      "execution_count": null,
      "metadata": {
        "colab": {
          "base_uri": "https://localhost:8080/"
        },
        "id": "XPBFMyBv_sn4",
        "outputId": "d6fec820-7afc-4909-9a23-f69b2fee73a6"
      },
      "outputs": [
        {
          "output_type": "stream",
          "name": "stdout",
          "text": [
            "Epoch 1/3\n",
            "19/19 [==============================] - 198s 10s/step - loss: 0.6189 - accuracy: 0.7867 - val_loss: 0.0680 - val_accuracy: 0.9667\n",
            "Epoch 2/3\n",
            "19/19 [==============================] - 190s 10s/step - loss: 0.0824 - accuracy: 0.9833 - val_loss: 1.5491e-04 - val_accuracy: 1.0000\n",
            "Epoch 3/3\n",
            "19/19 [==============================] - 190s 10s/step - loss: 0.0015 - accuracy: 1.0000 - val_loss: 1.9381e-05 - val_accuracy: 1.0000\n"
          ]
        }
      ],
      "source": [
        "history = model.fit(x_train, \n",
        "                         y_train, \n",
        "                         batch_size = 32, \n",
        "                         verbose = 1, \n",
        "                         epochs = 1,      \n",
        "                         validation_data=(x_test, y_test),\n",
        "                         shuffle = False)"
      ]
    },
    {
      "cell_type": "markdown",
      "metadata": {
        "id": "kHJxWi4Q_sn5"
      },
      "source": [
        "## Visualizing Results:"
      ]
    },
    {
      "cell_type": "markdown",
      "metadata": {
        "id": "GO9ToOZW_sn5"
      },
      "source": [
        "### Loss:"
      ]
    },
    {
      "cell_type": "code",
      "execution_count": null,
      "metadata": {
        "colab": {
          "base_uri": "https://localhost:8080/",
          "height": 295
        },
        "id": "W1vi80qr_sn5",
        "outputId": "b62c0a85-b193-4b47-980b-f202a2d70830"
      },
      "outputs": [
        {
          "output_type": "display_data",
          "data": {
            "text/plain": [
              "<Figure size 432x288 with 1 Axes>"
            ],
            "image/png": "[encoded data removed]"
          },
          "metadata": {
            "needs_background": "light"
          }
        }
      ],
      "source": [
        "import matplotlib.pyplot as plt\n",
        "\n",
        "loss = history.history['loss']\n",
        "val_loss = history.history['val_loss']\n",
        "epochs = range(1, len(loss) + 1)\n",
        "plt.plot(epochs, loss, 'y', label='Training loss')\n",
        "plt.plot(epochs, val_loss, 'r', label='Validation loss')\n",
        "plt.title('Training and validation loss')\n",
        "plt.xlabel('Epochs')\n",
        "plt.ylabel('Loss')\n",
        "plt.legend()\n",
        "plt.show()"
      ]
    },
    {
      "cell_type": "markdown",
      "metadata": {
        "id": "sbR8P3ap_sn5"
      },
      "source": [
        "### Accuracy: "
      ]
    },
    {
      "cell_type": "code",
      "execution_count": null,
      "metadata": {
        "colab": {
          "base_uri": "https://localhost:8080/",
          "height": 295
        },
        "id": "K6kFX44A_sn5",
        "outputId": "9edf86c6-899a-42dc-aef8-0c027e12f95c"
      },
      "outputs": [
        {
          "output_type": "display_data",
          "data": {
            "text/plain": [
              "<Figure size 432x288 with 1 Axes>"
            ],
            "image/png": "[encoded data removed]"
          },
          "metadata": {
            "needs_background": "light"
          }
        }
      ],
      "source": [
        "acc = history.history['accuracy']\n",
        "val_acc = history.history['val_accuracy']\n",
        "plt.plot(epochs, acc, 'y', label='Training acc')\n",
        "plt.plot(epochs, val_acc, 'r', label='Validation acc')\n",
        "plt.title('Training and validation accuracy')\n",
        "plt.xlabel('Epochs')\n",
        "plt.ylabel('Accuracy')\n",
        "plt.legend()\n",
        "plt.show()"
      ]
    },
    {
      "cell_type": "markdown",
      "metadata": {
        "id": "fnaGuIhz_sn5"
      },
      "source": [
        "# Taking a prediction:"
      ]
    },
    {
      "cell_type": "code",
      "execution_count": null,
      "metadata": {
        "colab": {
          "base_uri": "https://localhost:8080/",
          "height": 304
        },
        "id": "uEAFu5u6_sn5",
        "outputId": "318b91da-27ae-40d7-e8eb-b3247a20f959"
      },
      "outputs": [
        {
          "output_type": "stream",
          "name": "stdout",
          "text": [
            "The prediction for this image is:  0\n",
            "The actual label for this image is:  2\n"
          ]
        },
        {
          "output_type": "display_data",
          "data": {
            "text/plain": [
              "<Figure size 432x288 with 1 Axes>"
            ],
            "image/png": "[encoded data removed]"
          },
          "metadata": {
            "needs_background": "light"
          }
        }
      ],
      "source": [
        "n = 60  #Select the index of image to be loaded for testing\n",
        "img = x_test[n]\n",
        "plt.imshow(img)\n",
        "\n",
        "input_img = np.expand_dims(img, axis=0) #Expand dims so the input is (num images, x, y)\n",
        "\n",
        "print(\"The prediction for this image is: \", np.argmax(model.predict(input_img)))\n",
        "print(\"The actual label for this image is: \", np.argmax(y_test[n])) #Stage 2"
      ]
    },
    {
      "cell_type": "code",
      "execution_count": null,
      "metadata": {
        "id": "0BmTH89f_sn6"
      },
      "outputs": [],
      "source": [
        ""
      ]
    }
  ],
  "metadata": {
    "kernelspec": {
      "display_name": "Python 3",
      "language": "python",
      "name": "python3"
    },
    "language_info": {
      "codemirror_mode": {
        "name": "ipython",
        "version": 3
      },
      "file_extension": ".py",
      "mimetype": "text/x-python",
      "name": "python",
      "nbconvert_exporter": "python",
      "pygments_lexer": "ipython3",
      "version": "3.8.3"
    },
    "colab": {
      "name": "cancer_CNN_Dropout.ipynb",
      "provenance": [],
      "include_colab_link": true
    }
  },
  "nbformat": 4,
  "nbformat_minor": 0
}