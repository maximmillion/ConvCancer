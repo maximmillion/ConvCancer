{
  "cells": [
    {
      "cell_type": "markdown",
      "metadata": {
        "id": "view-in-github",
        "colab_type": "text"
      },
      "source": [
        "<a href=\"https://colab.research.google.com/github/maximmillion/ConvCancer/blob/main/vgg19_CNN_transfer_learning_Cancer.ipynb\" target=\"_parent\"><img src=\"https://colab.research.google.com/assets/colab-badge.svg\" alt=\"Open In Colab\"/></a>"
      ]
    },
    {
      "cell_type": "code",
      "execution_count": null,
      "metadata": {
        "id": "6wHAp-keHlX-"
      },
      "outputs": [],
      "source": [
        "import tensorflow as tf\n",
        "from tensorflow import keras\n",
        "from tensorflow.keras.callbacks import History \n",
        "from keras.models import Sequential\n",
        "from tensorflow.keras import layers\n",
        "\n",
        "from random import randint\n",
        "import numpy as np\n",
        "import os\n",
        "from tqdm import tqdm\n",
        "\n",
        "from skimage.io import imread\n",
        "import cv2\n",
        "\n",
        "import matplotlib.pyplot as plt\n",
        "%matplotlib inline"
      ]
    },
    {
      "cell_type": "markdown",
      "metadata": {
        "id": "VoauRnz8HlYC"
      },
      "source": [
        "# Making the dataset:"
      ]
    },
    {
      "cell_type": "code",
      "execution_count": null,
      "metadata": {
        "id": "vlSAeroNHlYD",
        "outputId": "f95e9453-bc0c-435a-d139-7983b4e55d60"
      },
      "outputs": [
        {
          "name": "stderr",
          "output_type": "stream",
          "text": [
            "100%|██████████| 250/250 [00:00<00:00, 431.89it/s]\n",
            "100%|██████████| 250/250 [00:00<00:00, 314.37it/s]\n",
            "100%|██████████| 250/250 [00:00<00:00, 355.74it/s]\n"
          ]
        },
        {
          "data": {
            "text/plain": [
              "(750, 128, 128)"
            ]
          },
          "execution_count": 2,
          "metadata": {},
          "output_type": "execute_result"
        }
      ],
      "source": [
        "# read all the images first\n",
        "x_train = []\n",
        "WIDTH = 128\n",
        "for i in range(1, 4): # changed to 3 classes\n",
        "    base_dir = f'./cancer_dataG/stage_{i}_png/'\n",
        "    files = os.listdir(base_dir)\n",
        "    for file in tqdm(files):\n",
        "        img = imread(base_dir+file)\n",
        "        resized = cv2.resize(img, (WIDTH, WIDTH))\n",
        "        x_train.append(resized)\n",
        "X_train = np.array(x_train)\n",
        "X_train.shape"
      ]
    },
    {
      "cell_type": "code",
      "execution_count": null,
      "metadata": {
        "id": "b_CIxLEHHlYE"
      },
      "outputs": [],
      "source": [
        "NUM = 250\n",
        "CLASSES = 3 #4\n",
        "y_train = []\n",
        "class_label = 0\n",
        "for i in range(NUM * CLASSES):\n",
        "    if i > 0 and i %  NUM == 0:\n",
        "        class_label += 1\n",
        "    y_train.append(class_label)\n",
        "Y_train = np.array(y_train)"
      ]
    },
    {
      "cell_type": "markdown",
      "metadata": {
        "id": "a0v44RbuHlYF"
      },
      "source": [
        "## Labels to categorical"
      ]
    },
    {
      "cell_type": "code",
      "execution_count": null,
      "metadata": {
        "id": "UMfnE-K2HlYF",
        "outputId": "208f96b2-a5c6-4dcb-d86b-486cee72db3a"
      },
      "outputs": [
        {
          "name": "stdout",
          "output_type": "stream",
          "text": [
            "(750,)\n",
            "(750, 3)\n"
          ]
        }
      ],
      "source": [
        "from tensorflow.keras.utils import to_categorical\n",
        "\n",
        "print(Y_train.shape)\n",
        "\n",
        "Y_train =to_categorical(Y_train)\n",
        "\n",
        "print(Y_train.shape)"
      ]
    },
    {
      "cell_type": "markdown",
      "metadata": {
        "id": "pVW6yjjVHlYG"
      },
      "source": [
        "## Normalize dataset:"
      ]
    },
    {
      "cell_type": "code",
      "execution_count": null,
      "metadata": {
        "id": "-SC_VGGmHlYG",
        "outputId": "1c06f742-bf60-4044-ab7b-84b56010010b"
      },
      "outputs": [
        {
          "name": "stdout",
          "output_type": "stream",
          "text": [
            "Maximum before:  255\n",
            "Mean before:  44.361420817057294\n",
            "\n",
            "Maximum after:  1.0\n",
            "Mean after:  0.17396635614532258\n"
          ]
        }
      ],
      "source": [
        "print('Maximum before: ', np.max(X_train))\n",
        "print('Mean before: ', np.mean(X_train), end='\\n\\n')\n",
        "\n",
        "X_train = X_train / 255\n",
        "\n",
        "print('Maximum after: ', np.max(X_train))\n",
        "print('Mean after: ', np.mean(X_train))"
      ]
    },
    {
      "cell_type": "markdown",
      "metadata": {
        "id": "a2hZfgwJHlYH"
      },
      "source": [
        "## Splitting the data:"
      ]
    },
    {
      "cell_type": "code",
      "execution_count": null,
      "metadata": {
        "id": "pph9NWQFHlYH",
        "outputId": "50b412fc-ed08-4287-9a1f-b165edc9c9b6"
      },
      "outputs": [
        {
          "name": "stdout",
          "output_type": "stream",
          "text": [
            "(600, 128, 128)\n",
            "(150, 128, 128)\n"
          ]
        }
      ],
      "source": [
        "from sklearn.model_selection import train_test_split\n",
        "\n",
        "x_train, x_test, y_train, y_test = train_test_split(X_train, Y_train,\n",
        "                                                    stratify=Y_train, \n",
        "                                                    test_size=0.2)\n",
        "\n",
        "print(x_train.shape)\n",
        "print(x_test.shape)"
      ]
    },
    {
      "cell_type": "code",
      "execution_count": null,
      "metadata": {
        "id": "XHZMaZXaHlYI"
      },
      "outputs": [],
      "source": [
        "# Reshaping as per requirement\n",
        "\n",
        "x_wanted_train = x_train.reshape(len(x_train), WIDTH, WIDTH, 1)\n",
        "x_wanted_test = x_test.reshape(len(x_test), WIDTH, WIDTH, 1)"
      ]
    },
    {
      "cell_type": "markdown",
      "metadata": {
        "id": "GnDIUjsrHlYJ"
      },
      "source": [
        "## Augmenting the data:"
      ]
    },
    {
      "cell_type": "code",
      "execution_count": null,
      "metadata": {
        "id": "A4DINVevHlYJ"
      },
      "outputs": [],
      "source": [
        "from tensorflow.keras.preprocessing.image import ImageDataGenerator\n",
        "\n",
        "datagen = ImageDataGenerator(\n",
        "    featurewise_center=True,\n",
        "    featurewise_std_normalization=True,\n",
        "    rotation_range=20,\n",
        "    width_shift_range=0.2,\n",
        "    height_shift_range=0.2,\n",
        "    horizontal_flip=True,\n",
        "    validation_split=0.2)"
      ]
    },
    {
      "cell_type": "code",
      "execution_count": null,
      "metadata": {
        "id": "WoiZRn5THlYJ"
      },
      "outputs": [],
      "source": [
        "datagen.fit(x_wanted_train)"
      ]
    },
    {
      "cell_type": "markdown",
      "metadata": {
        "id": "V9fl2NUvHlYK"
      },
      "source": [
        "# Model Work: "
      ]
    },
    {
      "cell_type": "code",
      "execution_count": null,
      "metadata": {
        "id": "FnXvvs9xHlYK"
      },
      "outputs": [],
      "source": [
        "from tensorflow.keras.applications.vgg19 import VGG19"
      ]
    },
    {
      "cell_type": "code",
      "execution_count": null,
      "metadata": {
        "id": "MmfWQXAQHlYK"
      },
      "outputs": [],
      "source": [
        "# Adding some extra layers before the input to deal with a single channel image\n",
        "# vgg takes a 3 channel input\n",
        "img_input = layers.Input(shape=(WIDTH, WIDTH, 1))\n",
        "img_conc = layers.Concatenate()([img_input, img_input, img_input])\n",
        "\n",
        "# Load model without classifier/fully connected layers\n",
        "# the top 3 layers are the fully connected dense layers when we say include_top = False\n",
        "# it means we don't want them, we only want the Convolutional layers\n",
        "VGG_model = VGG19(input_tensor=img_conc, weights='imagenet', include_top=False)"
      ]
    },
    {
      "cell_type": "code",
      "execution_count": null,
      "metadata": {
        "id": "oMZ9rlQrHlYL"
      },
      "outputs": [],
      "source": [
        "#Make loaded layers as non-trainable. This is important as we want to work with pre-trained weights\n",
        "for layer in VGG_model.layers:\n",
        "    layer.trainable = False"
      ]
    },
    {
      "cell_type": "code",
      "execution_count": null,
      "metadata": {
        "id": "3Aq-d6vdHlYL",
        "outputId": "8312dce2-bda8-4cc9-a04c-1e4d44543bcf"
      },
      "outputs": [
        {
          "name": "stdout",
          "output_type": "stream",
          "text": [
            "Model: \"vgg19\"\n",
            "__________________________________________________________________________________________________\n",
            "Layer (type)                    Output Shape         Param #     Connected to                     \n",
            "==================================================================================================\n",
            "input_2 (InputLayer)            [(None, 128, 128, 1) 0                                            \n",
            "__________________________________________________________________________________________________\n",
            "concatenate_1 (Concatenate)     (None, 128, 128, 3)  0           input_2[0][0]                    \n",
            "                                                                 input_2[0][0]                    \n",
            "                                                                 input_2[0][0]                    \n",
            "__________________________________________________________________________________________________\n",
            "block1_conv1 (Conv2D)           (None, 128, 128, 64) 1792        concatenate_1[0][0]              \n",
            "__________________________________________________________________________________________________\n",
            "block1_conv2 (Conv2D)           (None, 128, 128, 64) 36928       block1_conv1[0][0]               \n",
            "__________________________________________________________________________________________________\n",
            "block1_pool (MaxPooling2D)      (None, 64, 64, 64)   0           block1_conv2[0][0]               \n",
            "__________________________________________________________________________________________________\n",
            "block2_conv1 (Conv2D)           (None, 64, 64, 128)  73856       block1_pool[0][0]                \n",
            "__________________________________________________________________________________________________\n",
            "block2_conv2 (Conv2D)           (None, 64, 64, 128)  147584      block2_conv1[0][0]               \n",
            "__________________________________________________________________________________________________\n",
            "block2_pool (MaxPooling2D)      (None, 32, 32, 128)  0           block2_conv2[0][0]               \n",
            "__________________________________________________________________________________________________\n",
            "block3_conv1 (Conv2D)           (None, 32, 32, 256)  295168      block2_pool[0][0]                \n",
            "__________________________________________________________________________________________________\n",
            "block3_conv2 (Conv2D)           (None, 32, 32, 256)  590080      block3_conv1[0][0]               \n",
            "__________________________________________________________________________________________________\n",
            "block3_conv3 (Conv2D)           (None, 32, 32, 256)  590080      block3_conv2[0][0]               \n",
            "__________________________________________________________________________________________________\n",
            "block3_conv4 (Conv2D)           (None, 32, 32, 256)  590080      block3_conv3[0][0]               \n",
            "__________________________________________________________________________________________________\n",
            "block3_pool (MaxPooling2D)      (None, 16, 16, 256)  0           block3_conv4[0][0]               \n",
            "__________________________________________________________________________________________________\n",
            "block4_conv1 (Conv2D)           (None, 16, 16, 512)  1180160     block3_pool[0][0]                \n",
            "__________________________________________________________________________________________________\n",
            "block4_conv2 (Conv2D)           (None, 16, 16, 512)  2359808     block4_conv1[0][0]               \n",
            "__________________________________________________________________________________________________\n",
            "block4_conv3 (Conv2D)           (None, 16, 16, 512)  2359808     block4_conv2[0][0]               \n",
            "__________________________________________________________________________________________________\n",
            "block4_conv4 (Conv2D)           (None, 16, 16, 512)  2359808     block4_conv3[0][0]               \n",
            "__________________________________________________________________________________________________\n",
            "block4_pool (MaxPooling2D)      (None, 8, 8, 512)    0           block4_conv4[0][0]               \n",
            "__________________________________________________________________________________________________\n",
            "block5_conv1 (Conv2D)           (None, 8, 8, 512)    2359808     block4_pool[0][0]                \n",
            "__________________________________________________________________________________________________\n",
            "block5_conv2 (Conv2D)           (None, 8, 8, 512)    2359808     block5_conv1[0][0]               \n",
            "__________________________________________________________________________________________________\n",
            "block5_conv3 (Conv2D)           (None, 8, 8, 512)    2359808     block5_conv2[0][0]               \n",
            "__________________________________________________________________________________________________\n",
            "block5_conv4 (Conv2D)           (None, 8, 8, 512)    2359808     block5_conv3[0][0]               \n",
            "__________________________________________________________________________________________________\n",
            "block5_pool (MaxPooling2D)      (None, 4, 4, 512)    0           block5_conv4[0][0]               \n",
            "==================================================================================================\n",
            "Total params: 20,024,384\n",
            "Trainable params: 0\n",
            "Non-trainable params: 20,024,384\n",
            "__________________________________________________________________________________________________\n"
          ]
        }
      ],
      "source": [
        "VGG_model.summary()  #Trainable parameters will be 0"
      ]
    },
    {
      "cell_type": "markdown",
      "metadata": {
        "id": "Dd3D42Q8HlYL"
      },
      "source": [
        "## Creating the model:"
      ]
    },
    {
      "cell_type": "code",
      "execution_count": null,
      "metadata": {
        "id": "lExeo8oWHlYL"
      },
      "outputs": [],
      "source": [
        "INPUT_SHAPE = (WIDTH, WIDTH)   \n",
        "\n",
        "model = Sequential()\n",
        "# to add the extra dimesion in the image\n",
        "#model.add(layers.Reshape((WIDTH, WIDTH, 1), input_shape=INPUT_SHAPE))\n",
        "# using the vgg-16 CNN with learned features, no learning now\n",
        "model.add(VGG_model)\n",
        "# flattening the multiple dimension output from the CNN\n",
        "model.add(layers.Dropout(0.3))\n",
        "model.add(layers.Flatten())\n",
        "model.add(layers.Dense(256, activation='relu'))\n",
        "model.add(layers.Dense(CLASSES, activation='softmax'))"
      ]
    },
    {
      "cell_type": "code",
      "execution_count": null,
      "metadata": {
        "id": "zW59LttKHlYM",
        "outputId": "28c552f3-a1b0-43c5-f053-ac8d17e341d4"
      },
      "outputs": [
        {
          "name": "stdout",
          "output_type": "stream",
          "text": [
            "Model: \"sequential\"\n",
            "_________________________________________________________________\n",
            "Layer (type)                 Output Shape              Param #   \n",
            "=================================================================\n",
            "vgg19 (Functional)           (None, 4, 4, 512)         20024384  \n",
            "_________________________________________________________________\n",
            "dropout (Dropout)            (None, 4, 4, 512)         0         \n",
            "_________________________________________________________________\n",
            "flatten (Flatten)            (None, 8192)              0         \n",
            "_________________________________________________________________\n",
            "dense (Dense)                (None, 256)               2097408   \n",
            "_________________________________________________________________\n",
            "dense_1 (Dense)              (None, 3)                 771       \n",
            "=================================================================\n",
            "Total params: 22,122,563\n",
            "Trainable params: 2,098,179\n",
            "Non-trainable params: 20,024,384\n",
            "_________________________________________________________________\n"
          ]
        }
      ],
      "source": [
        "model.summary()"
      ]
    },
    {
      "cell_type": "code",
      "execution_count": null,
      "metadata": {
        "id": "g78BOaT5HlYM"
      },
      "outputs": [],
      "source": [
        "model.compile(loss='categorical_crossentropy',\n",
        "              optimizer='rmsprop', \n",
        "              metrics=['accuracy'])"
      ]
    },
    {
      "cell_type": "markdown",
      "metadata": {
        "id": "57UDNvudHlYM"
      },
      "source": [
        "## Training the model"
      ]
    },
    {
      "cell_type": "code",
      "execution_count": null,
      "metadata": {
        "id": "wMyvrHggHlYM",
        "outputId": "7536aac6-ee1b-437c-b476-1182cd55331e"
      },
      "outputs": [
        {
          "name": "stdout",
          "output_type": "stream",
          "text": [
            "Epoch 1/10\n",
            "15/15 [==============================] - 22s 1s/step - loss: 2.9082 - accuracy: 0.4958 - val_loss: 2.6433 - val_accuracy: 0.4000\n",
            "Epoch 2/10\n",
            "15/15 [==============================] - 22s 1s/step - loss: 0.7389 - accuracy: 0.7188 - val_loss: 0.6486 - val_accuracy: 0.6667\n",
            "Epoch 3/10\n",
            "15/15 [==============================] - 36s 2s/step - loss: 0.5543 - accuracy: 0.7625 - val_loss: 0.1558 - val_accuracy: 1.0000\n",
            "Epoch 4/10\n",
            "15/15 [==============================] - 24s 2s/step - loss: 0.2448 - accuracy: 0.9229 - val_loss: 1.0623 - val_accuracy: 0.6667\n",
            "Epoch 5/10\n",
            "15/15 [==============================] - 21s 1s/step - loss: 0.3308 - accuracy: 0.8687 - val_loss: 0.1723 - val_accuracy: 0.9667\n",
            "Epoch 6/10\n",
            "15/15 [==============================] - 22s 1s/step - loss: 0.1188 - accuracy: 0.9625 - val_loss: 0.0684 - val_accuracy: 1.0000\n",
            "Epoch 7/10\n",
            "15/15 [==============================] - 51s 3s/step - loss: 0.2225 - accuracy: 0.9167 - val_loss: 0.4739 - val_accuracy: 0.8333\n",
            "Epoch 8/10\n",
            "15/15 [==============================] - 37s 2s/step - loss: 0.1337 - accuracy: 0.9542 - val_loss: 0.0749 - val_accuracy: 1.0000\n",
            "Epoch 9/10\n",
            "15/15 [==============================] - 22s 1s/step - loss: 0.4361 - accuracy: 0.8687 - val_loss: 0.0555 - val_accuracy: 0.9667\n",
            "Epoch 10/10\n",
            "15/15 [==============================] - 21s 1s/step - loss: 0.0490 - accuracy: 0.9771 - val_loss: 0.8437 - val_accuracy: 0.7667\n"
          ]
        }
      ],
      "source": [
        "history = model.fit(datagen.flow(x_wanted_train, y_train, batch_size=32,\n",
        "         subset='training'),\n",
        "         validation_data=datagen.flow(x_wanted_test, y_test,\n",
        "         batch_size=8, subset='validation'),\n",
        "#          steps_per_epoch=len(x_train) // 32, \n",
        "#         validation_steps = len(x_train) // 8,\n",
        "        epochs=10)"
      ]
    },
    {
      "cell_type": "markdown",
      "metadata": {
        "id": "HAPbZiguHlYM"
      },
      "source": [
        "## Visualizing Results:"
      ]
    },
    {
      "cell_type": "code",
      "execution_count": null,
      "metadata": {
        "id": "Cch4hqplHlYM",
        "outputId": "14a1165a-33d5-4ebc-b080-1c67f0f1fe15"
      },
      "outputs": [
        {
          "data": {
            "image/png": "[encoded data removed]",
            "text/plain": [
              "<Figure size 432x288 with 1 Axes>"
            ]
          },
          "metadata": {
            "needs_background": "light"
          },
          "output_type": "display_data"
        }
      ],
      "source": [
        "loss = history.history['loss']\n",
        "val_loss = history.history['val_loss']\n",
        "epochs = range(1, len(loss) + 1)\n",
        "plt.plot(epochs, loss, 'y', label='Training loss')\n",
        "plt.plot(epochs, val_loss, 'r', label='Validation loss')\n",
        "plt.title('Training and validation loss')\n",
        "plt.xlabel('Epochs')\n",
        "plt.ylabel('Loss')\n",
        "plt.legend()\n",
        "plt.show()"
      ]
    },
    {
      "cell_type": "code",
      "execution_count": null,
      "metadata": {
        "id": "8tgHJ7i3HlYM",
        "outputId": "256ce2cd-f0a8-4527-c657-0d113e6ea758"
      },
      "outputs": [
        {
          "data": {
            "image/png": "[encoded data removed]",
            "text/plain": [
              "<Figure size 432x288 with 1 Axes>"
            ]
          },
          "metadata": {
            "needs_background": "light"
          },
          "output_type": "display_data"
        }
      ],
      "source": [
        "acc = history.history['accuracy']\n",
        "val_acc = history.history['val_accuracy']\n",
        "plt.plot(epochs, acc, 'y', label='Training acc')\n",
        "plt.plot(epochs, val_acc, 'r', label='Validation acc')\n",
        "plt.title('Training and validation accuracy')\n",
        "plt.xlabel('Epochs')\n",
        "plt.ylabel('Accuracy')\n",
        "plt.legend()\n",
        "plt.show()"
      ]
    },
    {
      "cell_type": "markdown",
      "metadata": {
        "id": "LBTC-aeiHlYN"
      },
      "source": [
        "## Taking a prediction:"
      ]
    },
    {
      "cell_type": "code",
      "execution_count": null,
      "metadata": {
        "id": "q3kYojU7HlYN",
        "outputId": "86bc73a1-38dc-4dac-e686-511070c6f5d3"
      },
      "outputs": [
        {
          "name": "stdout",
          "output_type": "stream",
          "text": [
            "The prediction for this image is:  1\n",
            "The actual label for this image is:  1\n"
          ]
        },
        {
          "data": {
            "image/png": "[encoded data removed]",
            "text/plain": [
              "<Figure size 432x288 with 1 Axes>"
            ]
          },
          "metadata": {
            "needs_background": "light"
          },
          "output_type": "display_data"
        }
      ],
      "source": [
        "n = 35  #Select the index of image to be loaded for testing\n",
        "img = x_test[n]\n",
        "plt.imshow(img)\n",
        "\n",
        "input_img = np.expand_dims(img, axis=0) #Expand dims so the input is (num images, x, y)\n",
        "\n",
        "print(\"The prediction for this image is: \", np.argmax(model.predict(input_img)[0]))\n",
        "print(\"The actual label for this image is: \", np.argmax(y_test[n]))"
      ]
    }
  ],
  "metadata": {
    "kernelspec": {
      "display_name": "Python 3",
      "language": "python",
      "name": "python3"
    },
    "language_info": {
      "codemirror_mode": {
        "name": "ipython",
        "version": 3
      },
      "file_extension": ".py",
      "mimetype": "text/x-python",
      "name": "python",
      "nbconvert_exporter": "python",
      "pygments_lexer": "ipython3",
      "version": "3.8.3"
    },
    "colab": {
      "name": "vgg19_CNN_transfer_learning-Cancer.ipynb",
      "provenance": [],
      "include_colab_link": true
    }
  },
  "nbformat": 4,
  "nbformat_minor": 0
}