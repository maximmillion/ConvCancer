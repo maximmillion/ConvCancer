{
  "cells": [
    {
      "cell_type": "code",
      "execution_count": null,
      "metadata": {
        "id": "3gMt7fLZqfSA"
      },
      "outputs": [],
      "source": [
        "import tensorflow as tf\n",
        "from tensorflow import keras\n",
        "from tensorflow.keras.callbacks import History \n",
        "from keras.models import Sequential\n",
        "from tensorflow.keras import layers\n",
        "\n",
        "from random import randint\n",
        "import numpy as np\n",
        "import os\n",
        "from tqdm import tqdm\n",
        "\n",
        "from skimage.io import imread\n",
        "import cv2\n",
        "\n",
        "import matplotlib.pyplot as plt\n",
        "%matplotlib inline"
      ]
    },
    {
      "cell_type": "code",
      "execution_count": null,
      "metadata": {
        "colab": {
          "base_uri": "https://localhost:8080/"
        },
        "id": "M4URyCyLqljy",
        "outputId": "d48af3ae-9525-41ad-e7a0-fd1fd9dfd59b"
      },
      "outputs": [
        {
          "name": "stdout",
          "output_type": "stream",
          "text": [
            "Drive already mounted at /content/drive; to attempt to forcibly remount, call drive.mount(\"/content/drive\", force_remount=True).\n"
          ]
        }
      ],
      "source": [
        "from google.colab import drive\n",
        "drive.mount('/content/drive')"
      ]
    },
    {
      "cell_type": "markdown",
      "metadata": {
        "id": "Sepwej_WqfSD"
      },
      "source": [
        "# Making the dataset:"
      ]
    },
    {
      "cell_type": "code",
      "execution_count": null,
      "metadata": {
        "colab": {
          "base_uri": "https://localhost:8080/"
        },
        "id": "Y2izj7qlqfSE",
        "outputId": "7af706bd-7551-4624-d499-b13a4d645cb8"
      },
      "outputs": [
        {
          "name": "stderr",
          "output_type": "stream",
          "text": [
            "100%|██████████| 250/250 [00:03<00:00, 68.09it/s] \n",
            "100%|██████████| 250/250 [00:03<00:00, 70.26it/s] \n",
            "100%|██████████| 250/250 [00:03<00:00, 72.20it/s] \n"
          ]
        },
        {
          "data": {
            "text/plain": [
              "(750, 128, 128)"
            ]
          },
          "execution_count": 4,
          "metadata": {},
          "output_type": "execute_result"
        }
      ],
      "source": [
        "# read all the images first\n",
        "x_train = []\n",
        "WIDTH = 128\n",
        "for i in range(1, 4): # changed to 3 classes\n",
        "    base_dir = f'/content/drive/MyDrive/cancer_dataG/stage_{i}_png/'\n",
        "    files = os.listdir(base_dir)\n",
        "    for file in tqdm(files):\n",
        "        img = imread(base_dir+file)\n",
        "        resized = cv2.resize(img, (WIDTH, WIDTH))\n",
        "        x_train.append(resized)\n",
        "X_train = np.array(x_train)\n",
        "X_train.shape"
      ]
    },
    {
      "cell_type": "code",
      "execution_count": null,
      "metadata": {
        "id": "upgUjesSqfSE"
      },
      "outputs": [],
      "source": [
        "NUM = 250\n",
        "CLASSES = 3 #4\n",
        "y_train = []\n",
        "class_label = 0\n",
        "for i in range(NUM * CLASSES):\n",
        "    if i > 0 and i %  NUM == 0:\n",
        "        class_label += 1\n",
        "    y_train.append(class_label)\n",
        "Y_train = np.array(y_train)"
      ]
    },
    {
      "cell_type": "markdown",
      "metadata": {
        "id": "BQXaDnSLqfSF"
      },
      "source": [
        "## Labels to categorical"
      ]
    },
    {
      "cell_type": "code",
      "execution_count": null,
      "metadata": {
        "colab": {
          "base_uri": "https://localhost:8080/"
        },
        "id": "-7FKKYgKqfSF",
        "outputId": "cb94e259-34c8-4cec-85d5-10f07fa3a69d"
      },
      "outputs": [
        {
          "name": "stdout",
          "output_type": "stream",
          "text": [
            "(750,)\n",
            "(750, 3)\n"
          ]
        }
      ],
      "source": [
        "from tensorflow.keras.utils import to_categorical\n",
        "\n",
        "print(Y_train.shape)\n",
        "\n",
        "Y_train =to_categorical(Y_train)\n",
        "\n",
        "print(Y_train.shape)"
      ]
    },
    {
      "cell_type": "markdown",
      "metadata": {
        "id": "T4dOjpCcqfSF"
      },
      "source": [
        "## Normalize dataset:"
      ]
    },
    {
      "cell_type": "code",
      "execution_count": null,
      "metadata": {
        "colab": {
          "base_uri": "https://localhost:8080/"
        },
        "id": "LtFpUI79qfSG",
        "outputId": "eb39ad63-9593-4989-9b33-e6605ad785e9"
      },
      "outputs": [
        {
          "name": "stdout",
          "output_type": "stream",
          "text": [
            "Maximum before:  255\n",
            "Mean before:  44.361420817057294\n",
            "\n",
            "Maximum after:  1.0\n",
            "Mean after:  0.1739663561453224\n"
          ]
        }
      ],
      "source": [
        "print('Maximum before: ', np.max(X_train))\n",
        "print('Mean before: ', np.mean(X_train), end='\\n\\n')\n",
        "\n",
        "X_train = X_train / 255\n",
        "\n",
        "print('Maximum after: ', np.max(X_train))\n",
        "print('Mean after: ', np.mean(X_train))"
      ]
    },
    {
      "cell_type": "markdown",
      "metadata": {
        "id": "bewc2iZHqfSH"
      },
      "source": [
        "## Splitting the data:"
      ]
    },
    {
      "cell_type": "code",
      "execution_count": null,
      "metadata": {
        "colab": {
          "base_uri": "https://localhost:8080/"
        },
        "id": "eFZ2RkVyqfSH",
        "outputId": "9efa442d-220b-4178-e0bd-11282057a5fb"
      },
      "outputs": [
        {
          "name": "stdout",
          "output_type": "stream",
          "text": [
            "(600, 128, 128)\n",
            "(150, 128, 128)\n"
          ]
        }
      ],
      "source": [
        "from sklearn.model_selection import train_test_split\n",
        "\n",
        "x_train, x_test, y_train, y_test = train_test_split(X_train, Y_train,\n",
        "                                                    stratify=Y_train, \n",
        "                                                    test_size=0.2)\n",
        "\n",
        "print(x_train.shape)\n",
        "print(x_test.shape)"
      ]
    },
    {
      "cell_type": "code",
      "execution_count": null,
      "metadata": {
        "id": "dsCJQHS8qfSH"
      },
      "outputs": [],
      "source": [
        "# Reshaping as per requirement\n",
        "\n",
        "x_wanted_train = x_train.reshape(len(x_train), WIDTH, WIDTH, 1)\n",
        "x_wanted_test = x_test.reshape(len(x_test), WIDTH, WIDTH, 1)"
      ]
    },
    {
      "cell_type": "markdown",
      "metadata": {
        "id": "4v5hiy8kqfSI"
      },
      "source": [
        "## Augmenting the data:"
      ]
    },
    {
      "cell_type": "code",
      "execution_count": null,
      "metadata": {
        "id": "KunTqt9TqfSI"
      },
      "outputs": [],
      "source": [
        "from tensorflow.keras.preprocessing.image import ImageDataGenerator\n",
        "\n",
        "datagen = ImageDataGenerator(\n",
        "    featurewise_center=True,\n",
        "    featurewise_std_normalization=True,\n",
        "    rotation_range=20,\n",
        "    width_shift_range=0.2,\n",
        "    height_shift_range=0.2,\n",
        "    horizontal_flip=True,\n",
        "    validation_split=0.2)"
      ]
    },
    {
      "cell_type": "code",
      "execution_count": null,
      "metadata": {
        "id": "x8ZuCcljqfSI"
      },
      "outputs": [],
      "source": [
        "datagen.fit(x_wanted_train)"
      ]
    },
    {
      "cell_type": "markdown",
      "metadata": {
        "id": "GF_is2lPqfSI"
      },
      "source": [
        "# Model Work: "
      ]
    },
    {
      "cell_type": "code",
      "execution_count": null,
      "metadata": {
        "id": "q_VOsvf9qfSI"
      },
      "outputs": [],
      "source": [
        "from keras.applications.vgg16 import VGG16"
      ]
    },
    {
      "cell_type": "code",
      "execution_count": null,
      "metadata": {
        "colab": {
          "base_uri": "https://localhost:8080/"
        },
        "id": "c4O-TSkPqfSI",
        "outputId": "d716aedc-95c0-422b-b1c7-f2a3660f3453"
      },
      "outputs": [
        {
          "name": "stdout",
          "output_type": "stream",
          "text": [
            "Downloading data from https://storage.googleapis.com/tensorflow/keras-applications/vgg16/vgg16_weights_tf_dim_ordering_tf_kernels_notop.h5\n",
            "58892288/58889256 [==============================] - 0s 0us/step\n",
            "58900480/58889256 [==============================] - 0s 0us/step\n"
          ]
        }
      ],
      "source": [
        "# Adding some extra layers before the input to deal with a single channel image\n",
        "# vgg takes a 3 channel input\n",
        "img_input = layers.Input(shape=(WIDTH, WIDTH, 1))\n",
        "img_conc = layers.Concatenate()([img_input, img_input, img_input])\n",
        "\n",
        "# Load model without classifier/fully connected layers\n",
        "# the top 3 layers are the fully connected dense layers when we say include_top = False\n",
        "# it means we don't want them, we only want the Convolutional layers\n",
        "VGG_model = VGG16(input_tensor=img_conc, weights='imagenet', include_top=False)"
      ]
    },
    {
      "cell_type": "code",
      "execution_count": null,
      "metadata": {
        "id": "MratOb4aqfSJ"
      },
      "outputs": [],
      "source": [
        "#Make loaded layers as non-trainable. This is important as we want to work with pre-trained weights\n",
        "for layer in VGG_model.layers:\n",
        "    layer.trainable = False"
      ]
    },
    {
      "cell_type": "code",
      "execution_count": null,
      "metadata": {
        "colab": {
          "base_uri": "https://localhost:8080/"
        },
        "id": "GAwnZycaqfSJ",
        "outputId": "287f7b80-bf35-4a6a-9947-4eca965cf70b"
      },
      "outputs": [
        {
          "name": "stdout",
          "output_type": "stream",
          "text": [
            "Model: \"vgg16\"\n",
            "__________________________________________________________________________________________________\n",
            " Layer (type)                   Output Shape         Param #     Connected to                     \n",
            "==================================================================================================\n",
            " input_1 (InputLayer)           [(None, 128, 128, 1  0           []                               \n",
            "                                )]                                                                \n",
            "                                                                                                  \n",
            " concatenate (Concatenate)      (None, 128, 128, 3)  0           ['input_1[0][0]',                \n",
            "                                                                  'input_1[0][0]',                \n",
            "                                                                  'input_1[0][0]']                \n",
            "                                                                                                  \n",
            " block1_conv1 (Conv2D)          (None, 128, 128, 64  1792        ['concatenate[0][0]']            \n",
            "                                )                                                                 \n",
            "                                                                                                  \n",
            " block1_conv2 (Conv2D)          (None, 128, 128, 64  36928       ['block1_conv1[0][0]']           \n",
            "                                )                                                                 \n",
            "                                                                                                  \n",
            " block1_pool (MaxPooling2D)     (None, 64, 64, 64)   0           ['block1_conv2[0][0]']           \n",
            "                                                                                                  \n",
            " block2_conv1 (Conv2D)          (None, 64, 64, 128)  73856       ['block1_pool[0][0]']            \n",
            "                                                                                                  \n",
            " block2_conv2 (Conv2D)          (None, 64, 64, 128)  147584      ['block2_conv1[0][0]']           \n",
            "                                                                                                  \n",
            " block2_pool (MaxPooling2D)     (None, 32, 32, 128)  0           ['block2_conv2[0][0]']           \n",
            "                                                                                                  \n",
            " block3_conv1 (Conv2D)          (None, 32, 32, 256)  295168      ['block2_pool[0][0]']            \n",
            "                                                                                                  \n",
            " block3_conv2 (Conv2D)          (None, 32, 32, 256)  590080      ['block3_conv1[0][0]']           \n",
            "                                                                                                  \n",
            " block3_conv3 (Conv2D)          (None, 32, 32, 256)  590080      ['block3_conv2[0][0]']           \n",
            "                                                                                                  \n",
            " block3_pool (MaxPooling2D)     (None, 16, 16, 256)  0           ['block3_conv3[0][0]']           \n",
            "                                                                                                  \n",
            " block4_conv1 (Conv2D)          (None, 16, 16, 512)  1180160     ['block3_pool[0][0]']            \n",
            "                                                                                                  \n",
            " block4_conv2 (Conv2D)          (None, 16, 16, 512)  2359808     ['block4_conv1[0][0]']           \n",
            "                                                                                                  \n",
            " block4_conv3 (Conv2D)          (None, 16, 16, 512)  2359808     ['block4_conv2[0][0]']           \n",
            "                                                                                                  \n",
            " block4_pool (MaxPooling2D)     (None, 8, 8, 512)    0           ['block4_conv3[0][0]']           \n",
            "                                                                                                  \n",
            " block5_conv1 (Conv2D)          (None, 8, 8, 512)    2359808     ['block4_pool[0][0]']            \n",
            "                                                                                                  \n",
            " block5_conv2 (Conv2D)          (None, 8, 8, 512)    2359808     ['block5_conv1[0][0]']           \n",
            "                                                                                                  \n",
            " block5_conv3 (Conv2D)          (None, 8, 8, 512)    2359808     ['block5_conv2[0][0]']           \n",
            "                                                                                                  \n",
            " block5_pool (MaxPooling2D)     (None, 4, 4, 512)    0           ['block5_conv3[0][0]']           \n",
            "                                                                                                  \n",
            "==================================================================================================\n",
            "Total params: 14,714,688\n",
            "Trainable params: 0\n",
            "Non-trainable params: 14,714,688\n",
            "__________________________________________________________________________________________________\n"
          ]
        }
      ],
      "source": [
        "VGG_model.summary()  #Trainable parameters will be 0"
      ]
    },
    {
      "cell_type": "markdown",
      "metadata": {
        "id": "EEjoWJTXqfSJ"
      },
      "source": [
        "## Creating the model:"
      ]
    },
    {
      "cell_type": "code",
      "execution_count": null,
      "metadata": {
        "id": "xnH82k_oqfSJ"
      },
      "outputs": [],
      "source": [
        "INPUT_SHAPE = (WIDTH, WIDTH)   \n",
        "\n",
        "model = Sequential()\n",
        "# to add the extra dimesion in the image\n",
        "#model.add(layers.Reshape((WIDTH, WIDTH, 1), input_shape=INPUT_SHAPE))\n",
        "# using the vgg-16 CNN with learned features, no learning now\n",
        "model.add(VGG_model)\n",
        "# flattening the multiple dimension output from the CNN\n",
        "model.add(layers.Dropout(0.3))\n",
        "model.add(layers.Flatten())\n",
        "model.add(layers.Dense(256, activation='relu'))\n",
        "model.add(layers.Dense(CLASSES, activation='softmax'))"
      ]
    },
    {
      "cell_type": "code",
      "execution_count": null,
      "metadata": {
        "colab": {
          "base_uri": "https://localhost:8080/"
        },
        "id": "rqaL5JwcqfSJ",
        "outputId": "c5962d14-ed06-40bb-d0c1-612e571ef71f"
      },
      "outputs": [
        {
          "name": "stdout",
          "output_type": "stream",
          "text": [
            "Model: \"sequential\"\n",
            "_________________________________________________________________\n",
            " Layer (type)                Output Shape              Param #   \n",
            "=================================================================\n",
            " vgg16 (Functional)          (None, 4, 4, 512)         14714688  \n",
            "                                                                 \n",
            " dropout (Dropout)           (None, 4, 4, 512)         0         \n",
            "                                                                 \n",
            " flatten (Flatten)           (None, 8192)              0         \n",
            "                                                                 \n",
            " dense (Dense)               (None, 256)               2097408   \n",
            "                                                                 \n",
            " dense_1 (Dense)             (None, 3)                 771       \n",
            "                                                                 \n",
            "=================================================================\n",
            "Total params: 16,812,867\n",
            "Trainable params: 2,098,179\n",
            "Non-trainable params: 14,714,688\n",
            "_________________________________________________________________\n"
          ]
        }
      ],
      "source": [
        "model.summary()"
      ]
    },
    {
      "cell_type": "code",
      "execution_count": null,
      "metadata": {
        "id": "sV33KjrlqfSJ"
      },
      "outputs": [],
      "source": [
        "model.compile(loss='categorical_crossentropy',\n",
        "              optimizer='rmsprop', \n",
        "              metrics=['accuracy'])"
      ]
    },
    {
      "cell_type": "markdown",
      "metadata": {
        "id": "GWDN8441qfSJ"
      },
      "source": [
        "## Training the model"
      ]
    },
    {
      "cell_type": "code",
      "execution_count": null,
      "metadata": {
        "colab": {
          "background_save": true,
          "base_uri": "https://localhost:8080/"
        },
        "id": "dfW353SrqfSK",
        "outputId": "b49dd167-290d-4911-c31f-3111782a0f7c"
      },
      "outputs": [
        {
          "name": "stdout",
          "output_type": "stream",
          "text": [
            "Epoch 1/10\n",
            "15/15 [==============================] - 87s 6s/step - loss: 2.5315 - accuracy: 0.5500 - val_loss: 0.6166 - val_accuracy: 0.8000\n",
            "Epoch 2/10\n",
            "15/15 [==============================] - 88s 6s/step - loss: 0.4168 - accuracy: 0.8292 - val_loss: 0.2855 - val_accuracy: 0.8333\n",
            "Epoch 3/10\n",
            "15/15 [==============================] - 85s 6s/step - loss: 0.5336 - accuracy: 0.8188 - val_loss: 0.0925 - val_accuracy: 0.9667\n",
            "Epoch 4/10\n",
            "15/15 [==============================] - 86s 6s/step - loss: 0.2152 - accuracy: 0.9125 - val_loss: 0.0295 - val_accuracy: 1.0000\n",
            "Epoch 5/10\n",
            "15/15 [==============================] - 85s 6s/step - loss: 0.1203 - accuracy: 0.9604 - val_loss: 0.0889 - val_accuracy: 0.9667\n",
            "Epoch 6/10\n",
            "15/15 [==============================] - 85s 6s/step - loss: 0.0941 - accuracy: 0.9646 - val_loss: 0.1712 - val_accuracy: 0.9667\n",
            "Epoch 7/10\n",
            "15/15 [==============================] - 85s 6s/step - loss: 0.1484 - accuracy: 0.9458 - val_loss: 0.0063 - val_accuracy: 1.0000\n",
            "Epoch 8/10\n",
            "15/15 [==============================] - 85s 6s/step - loss: 0.2734 - accuracy: 0.9417 - val_loss: 0.0699 - val_accuracy: 0.9667\n",
            "Epoch 9/10\n",
            "15/15 [==============================] - 85s 6s/step - loss: 0.0362 - accuracy: 0.9875 - val_loss: 0.3523 - val_accuracy: 0.8667\n",
            "Epoch 10/10\n",
            "15/15 [==============================] - 84s 6s/step - loss: 0.1336 - accuracy: 0.9604 - val_loss: 0.0238 - val_accuracy: 1.0000\n"
          ]
        }
      ],
      "source": [
        "history = model.fit(datagen.flow(x_wanted_train, y_train, batch_size=32,\n",
        "         subset='training'),\n",
        "         validation_data=datagen.flow(x_wanted_test, y_test,\n",
        "         batch_size=8, subset='validation'),\n",
        "#          steps_per_epoch=len(x_train) // 32, \n",
        "#         validation_steps = len(x_train) // 8,\n",
        "        epochs=10)"
      ]
    },
    {
      "cell_type": "markdown",
      "metadata": {
        "id": "xg2_k-FaqfSK"
      },
      "source": [
        "## Visualizing Results:"
      ]
    },
    {
      "cell_type": "code",
      "execution_count": null,
      "metadata": {
        "colab": {
          "background_save": true
        },
        "id": "TmA5V-FgqfSK",
        "outputId": "8b5ddef4-d653-4b2f-c797-06ded38ac4db"
      },
      "outputs": [
        {
          "data": {
            "image/png": "[encoded data removed]",
            "text/plain": [
              "<Figure size 432x288 with 1 Axes>"
            ]
          },
          "metadata": {},
          "output_type": "display_data"
        }
      ],
      "source": [
        "loss = history.history['loss']\n",
        "val_loss = history.history['val_loss']\n",
        "epochs = range(1, len(loss) + 1)\n",
        "plt.plot(epochs, loss, 'y', label='Training loss')\n",
        "plt.plot(epochs, val_loss, 'r', label='Validation loss')\n",
        "plt.title('Training and validation loss')\n",
        "plt.xlabel('Epochs')\n",
        "plt.ylabel('Loss')\n",
        "plt.legend()\n",
        "plt.show()"
      ]
    },
    {
      "cell_type": "code",
      "execution_count": null,
      "metadata": {
        "colab": {
          "background_save": true
        },
        "id": "_OawbgUrqfSK",
        "outputId": "072fd232-a381-4e0f-dfa8-bce9d93a1d7a"
      },
      "outputs": [
        {
          "data": {
            "image/png": "[encoded data removed]",
            "text/plain": [
              "<Figure size 432x288 with 1 Axes>"
            ]
          },
          "metadata": {},
          "output_type": "display_data"
        }
      ],
      "source": [
        "acc = history.history['accuracy']\n",
        "val_acc = history.history['val_accuracy']\n",
        "plt.plot(epochs, acc, 'y', label='Training acc')\n",
        "plt.plot(epochs, val_acc, 'r', label='Validation acc')\n",
        "plt.title('Training and validation accuracy')\n",
        "plt.xlabel('Epochs')\n",
        "plt.ylabel('Accuracy')\n",
        "plt.legend()\n",
        "plt.show()"
      ]
    },
    {
      "cell_type": "markdown",
      "metadata": {
        "id": "LFryLnm-qfSK"
      },
      "source": [
        "## Taking a prediction:"
      ]
    },
    {
      "cell_type": "code",
      "execution_count": null,
      "metadata": {
        "colab": {
          "background_save": true
        },
        "id": "r-BsI7M2qfSK",
        "outputId": "5f952bdd-cec1-4c93-eed3-51ab6e422663"
      },
      "outputs": [
        {
          "name": "stdout",
          "output_type": "stream",
          "text": [
            "The prediction for this image is:  0\n",
            "The actual label for this image is:  0\n"
          ]
        },
        {
          "data": {
            "image/png": "[encoded data removed]",
            "text/plain": [
              "<Figure size 432x288 with 1 Axes>"
            ]
          },
          "metadata": {},
          "output_type": "display_data"
        }
      ],
      "source": [
        "n = 35  #Select the index of image to be loaded for testing\n",
        "img = x_test[n]\n",
        "plt.imshow(img)\n",
        "\n",
        "input_img = np.expand_dims(img, axis=0) #Expand dims so the input is (num images, x, y)\n",
        "\n",
        "print(\"The prediction for this image is: \", np.argmax(model.predict(input_img)[0]))\n",
        "print(\"The actual label for this image is: \", np.argmax(y_test[n]))"
      ]
    }
  ],
  "metadata": {
    "colab": {
      "name": "CNN_Aug.ipynb",
      "provenance": []
    },
    "kernelspec": {
      "display_name": "Python 3",
      "language": "python",
      "name": "python3"
    },
    "language_info": {
      "codemirror_mode": {
        "name": "ipython",
        "version": 3
      },
      "file_extension": ".py",
      "mimetype": "text/x-python",
      "name": "python",
      "nbconvert_exporter": "python",
      "pygments_lexer": "ipython3",
      "version": "3.8.3"
    }
  },
  "nbformat": 4,
  "nbformat_minor": 0
}